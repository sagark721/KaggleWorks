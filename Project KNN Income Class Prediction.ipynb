{
 "cells": [
  {
   "cell_type": "code",
   "execution_count": 1,
   "id": "1fcac7e5",
   "metadata": {},
   "outputs": [],
   "source": [
    "import pandas as pd\n",
    "import numpy as np\n",
    "import matplotlib.pyplot as plt\n",
    "import seaborn as sns"
   ]
  },
  {
   "cell_type": "code",
   "execution_count": 2,
   "id": "498dbdd2",
   "metadata": {},
   "outputs": [],
   "source": [
    "df=pd.read_csv('adult.csv')"
   ]
  },
  {
   "cell_type": "code",
   "execution_count": 3,
   "id": "f2312f5c",
   "metadata": {},
   "outputs": [
    {
     "name": "stdout",
     "output_type": "stream",
     "text": [
      "Data source: https://www.kaggle.com/datasets/uciml/adult-census-income?select=adult.csv\n",
      "Data source: https://www.kaggle.com/datasets/wenruliu/adult-income-dataset\n",
      "\n",
      "\n",
      "\n",
      "The Dataset\n",
      "The Census Income dataset has 48,842 entries. Each entry contains the following information\n",
      "about an individual:\n",
      "● age: the age of an individual\n",
      "○ Integer greater than 0\n",
      "● workclass: a general term to represent the employment status of an individual\n",
      "○ Private, Self­emp­not­inc, Self­emp­inc, Federal­gov, Local­gov, State­gov,\n",
      "Without­pay, Never­worked.\n",
      "● fnlwgt: final weight. In other words, this is the number of people the census believes\n",
      "the entry represents..\n",
      "○ Integer greater than 0\n",
      "● education: the highest level of education achieved by an individual.\n",
      "○ Bachelors, Some­college, 11th, HS­grad, Prof­school, Assoc­acdm, Assoc­voc,\n",
      "9th, 7th­8th, 12th, Masters, 1st­4th, 10th, Doctorate, 5th­6th, Preschool.\n",
      "● education­num: the highest level of education achieved in numerical form.\n",
      "○ Integer greater than 0\n",
      "● marital­status: marital status of an individual. Married­civ­spouse corresponds to a\n",
      "civilian spouse while Married­AF­spouse is a spouse in the Armed Forces.\n",
      "○ Married­civ­spouse, Divorced, Never­married, Separated, Widowed,\n",
      "Married­spouse­absent, Married­AF­spouse.\n",
      "● occupation: the general type of occupation of an individual\n",
      "○ Tech­support, Craft­repair, Other­service, Sales, Exec­managerial,\n",
      "Prof­specialty, Handlers­cleaners, Machine­op­inspct, Adm­clerical,\n",
      "Farming­fishing, Transport­moving, Priv­house­serv, Protective­serv,\n",
      "Armed­Forces.\n",
      "● relationship: represents what this individual is relative to others. For example an\n",
      "individual could be a Husband. Each entry only has one relationship attribute and is\n",
      "somewhat redundant with marital status. We might not make use of this attribute at all\n",
      "○ Wife, Own­child, Husband, Not­in­family, Other­relative, Unmarried.\n",
      "● race: Descriptions of an individual’s race\n",
      "○ White, Asian­Pac­Islander, Amer­Indian­Eskimo, Other, Black.\n",
      "● sex: the biological sex of the individual\n",
      "○ Male, Female\n",
      "● capital­gain: capital gains for an individual\n",
      "○ Integer greater than or equal to 0\n",
      "● capital­loss: capital loss for an individual\n",
      "○ Integer greater than or equal to 0\n",
      "● hours­per­week: the hours an individual has reported to work per week\n",
      "○ continuous.\n",
      "● native­country: country of origin for an individual\n",
      "○ United­States, Cambodia, England, Puerto­Rico, Canada, Germany,\n",
      "Outlying­US(Guam­USVI­etc), India, Japan, Greece, South, China, Cuba, Iran,\n",
      "Honduras, Philippines, Italy, Poland, Jamaica, Vietnam, Mexico, Portugal,\n",
      "Ireland, France, Dominican­Republic, Laos, Ecuador, Taiwan, Haiti, Columbia,\n",
      "Hungary, Guatemala, Nicaragua, Scotland, Thailand, Yugoslavia, El­Salvador,\n",
      "Trinadad&Tobago, Peru, Hong, Holand­Netherlands.\n",
      "● the label: whether or not an individual makes more than $50,000 annually.\n",
      "○ <=50k, >50k\n",
      "\n",
      "\n",
      "About Dataset\n",
      "An individual’s annual income results from various factors. Intuitively, it is influenced by the individual’s education level, age, gender, occupation, and etc.\n",
      "\n",
      "This is a widely cited KNN dataset. I encountered it during my course, and I wish to share it here because it is a good starter example for data pre-processing and machine learning practices.\n",
      "\n",
      "\n",
      "\n",
      "\n",
      "\n",
      "Fields\n",
      "The dataset contains 16 columns\n",
      "Target filed: Income\n",
      "-- The income is divide into two classes: <=50K and >50K\n",
      "Number of attributes: 14\n",
      "-- These are the demographics and other features to describe a person\n",
      "\n",
      "We can explore the possibility in predicting income level based on the individual’s personal information.\n",
      "\n",
      "Acknowledgements\n",
      "This dataset named “adult” is found in the UCI machine learning repository\n",
      "http://www.cs.toronto.edu/~delve/data/adult/desc.html\n",
      "\n",
      "The detailed description on the dataset can be found in the original UCI documentation\n",
      "http://www.cs.toronto.edu/~delve/data/adult/adultDetail.html\n",
      "\n",
      "\n"
     ]
    }
   ],
   "source": [
    "with open('Description.txt',encoding=\"utf8\") as f:\n",
    "    print(f.read())"
   ]
  },
  {
   "cell_type": "markdown",
   "id": "32431f39",
   "metadata": {},
   "source": [
    "### EDA"
   ]
  },
  {
   "cell_type": "code",
   "execution_count": 4,
   "id": "107e897e",
   "metadata": {},
   "outputs": [
    {
     "data": {
      "text/html": [
       "<div>\n",
       "<style scoped>\n",
       "    .dataframe tbody tr th:only-of-type {\n",
       "        vertical-align: middle;\n",
       "    }\n",
       "\n",
       "    .dataframe tbody tr th {\n",
       "        vertical-align: top;\n",
       "    }\n",
       "\n",
       "    .dataframe thead th {\n",
       "        text-align: right;\n",
       "    }\n",
       "</style>\n",
       "<table border=\"1\" class=\"dataframe\">\n",
       "  <thead>\n",
       "    <tr style=\"text-align: right;\">\n",
       "      <th></th>\n",
       "      <th>age</th>\n",
       "      <th>workclass</th>\n",
       "      <th>fnlwgt</th>\n",
       "      <th>education</th>\n",
       "      <th>educational-num</th>\n",
       "      <th>marital-status</th>\n",
       "      <th>occupation</th>\n",
       "      <th>relationship</th>\n",
       "      <th>race</th>\n",
       "      <th>gender</th>\n",
       "      <th>capital-gain</th>\n",
       "      <th>capital-loss</th>\n",
       "      <th>hours-per-week</th>\n",
       "      <th>native-country</th>\n",
       "      <th>income</th>\n",
       "    </tr>\n",
       "  </thead>\n",
       "  <tbody>\n",
       "    <tr>\n",
       "      <th>0</th>\n",
       "      <td>25</td>\n",
       "      <td>Private</td>\n",
       "      <td>226802</td>\n",
       "      <td>11th</td>\n",
       "      <td>7</td>\n",
       "      <td>Never-married</td>\n",
       "      <td>Machine-op-inspct</td>\n",
       "      <td>Own-child</td>\n",
       "      <td>Black</td>\n",
       "      <td>Male</td>\n",
       "      <td>0</td>\n",
       "      <td>0</td>\n",
       "      <td>40</td>\n",
       "      <td>United-States</td>\n",
       "      <td>&lt;=50K</td>\n",
       "    </tr>\n",
       "    <tr>\n",
       "      <th>1</th>\n",
       "      <td>38</td>\n",
       "      <td>Private</td>\n",
       "      <td>89814</td>\n",
       "      <td>HS-grad</td>\n",
       "      <td>9</td>\n",
       "      <td>Married-civ-spouse</td>\n",
       "      <td>Farming-fishing</td>\n",
       "      <td>Husband</td>\n",
       "      <td>White</td>\n",
       "      <td>Male</td>\n",
       "      <td>0</td>\n",
       "      <td>0</td>\n",
       "      <td>50</td>\n",
       "      <td>United-States</td>\n",
       "      <td>&lt;=50K</td>\n",
       "    </tr>\n",
       "    <tr>\n",
       "      <th>2</th>\n",
       "      <td>28</td>\n",
       "      <td>Local-gov</td>\n",
       "      <td>336951</td>\n",
       "      <td>Assoc-acdm</td>\n",
       "      <td>12</td>\n",
       "      <td>Married-civ-spouse</td>\n",
       "      <td>Protective-serv</td>\n",
       "      <td>Husband</td>\n",
       "      <td>White</td>\n",
       "      <td>Male</td>\n",
       "      <td>0</td>\n",
       "      <td>0</td>\n",
       "      <td>40</td>\n",
       "      <td>United-States</td>\n",
       "      <td>&gt;50K</td>\n",
       "    </tr>\n",
       "    <tr>\n",
       "      <th>3</th>\n",
       "      <td>44</td>\n",
       "      <td>Private</td>\n",
       "      <td>160323</td>\n",
       "      <td>Some-college</td>\n",
       "      <td>10</td>\n",
       "      <td>Married-civ-spouse</td>\n",
       "      <td>Machine-op-inspct</td>\n",
       "      <td>Husband</td>\n",
       "      <td>Black</td>\n",
       "      <td>Male</td>\n",
       "      <td>7688</td>\n",
       "      <td>0</td>\n",
       "      <td>40</td>\n",
       "      <td>United-States</td>\n",
       "      <td>&gt;50K</td>\n",
       "    </tr>\n",
       "    <tr>\n",
       "      <th>4</th>\n",
       "      <td>18</td>\n",
       "      <td>?</td>\n",
       "      <td>103497</td>\n",
       "      <td>Some-college</td>\n",
       "      <td>10</td>\n",
       "      <td>Never-married</td>\n",
       "      <td>?</td>\n",
       "      <td>Own-child</td>\n",
       "      <td>White</td>\n",
       "      <td>Female</td>\n",
       "      <td>0</td>\n",
       "      <td>0</td>\n",
       "      <td>30</td>\n",
       "      <td>United-States</td>\n",
       "      <td>&lt;=50K</td>\n",
       "    </tr>\n",
       "  </tbody>\n",
       "</table>\n",
       "</div>"
      ],
      "text/plain": [
       "   age  workclass  fnlwgt     education  educational-num      marital-status  \\\n",
       "0   25    Private  226802          11th                7       Never-married   \n",
       "1   38    Private   89814       HS-grad                9  Married-civ-spouse   \n",
       "2   28  Local-gov  336951    Assoc-acdm               12  Married-civ-spouse   \n",
       "3   44    Private  160323  Some-college               10  Married-civ-spouse   \n",
       "4   18          ?  103497  Some-college               10       Never-married   \n",
       "\n",
       "          occupation relationship   race  gender  capital-gain  capital-loss  \\\n",
       "0  Machine-op-inspct    Own-child  Black    Male             0             0   \n",
       "1    Farming-fishing      Husband  White    Male             0             0   \n",
       "2    Protective-serv      Husband  White    Male             0             0   \n",
       "3  Machine-op-inspct      Husband  Black    Male          7688             0   \n",
       "4                  ?    Own-child  White  Female             0             0   \n",
       "\n",
       "   hours-per-week native-country income  \n",
       "0              40  United-States  <=50K  \n",
       "1              50  United-States  <=50K  \n",
       "2              40  United-States   >50K  \n",
       "3              40  United-States   >50K  \n",
       "4              30  United-States  <=50K  "
      ]
     },
     "execution_count": 4,
     "metadata": {},
     "output_type": "execute_result"
    }
   ],
   "source": [
    "df.head()"
   ]
  },
  {
   "cell_type": "code",
   "execution_count": 5,
   "id": "2d8c5c1d",
   "metadata": {
    "scrolled": true
   },
   "outputs": [
    {
     "data": {
      "text/html": [
       "<div>\n",
       "<style scoped>\n",
       "    .dataframe tbody tr th:only-of-type {\n",
       "        vertical-align: middle;\n",
       "    }\n",
       "\n",
       "    .dataframe tbody tr th {\n",
       "        vertical-align: top;\n",
       "    }\n",
       "\n",
       "    .dataframe thead th {\n",
       "        text-align: right;\n",
       "    }\n",
       "</style>\n",
       "<table border=\"1\" class=\"dataframe\">\n",
       "  <thead>\n",
       "    <tr style=\"text-align: right;\">\n",
       "      <th></th>\n",
       "      <th>age</th>\n",
       "      <th>fnlwgt</th>\n",
       "      <th>educational-num</th>\n",
       "      <th>capital-gain</th>\n",
       "      <th>capital-loss</th>\n",
       "      <th>hours-per-week</th>\n",
       "    </tr>\n",
       "  </thead>\n",
       "  <tbody>\n",
       "    <tr>\n",
       "      <th>count</th>\n",
       "      <td>48842.000000</td>\n",
       "      <td>4.884200e+04</td>\n",
       "      <td>48842.000000</td>\n",
       "      <td>48842.000000</td>\n",
       "      <td>48842.000000</td>\n",
       "      <td>48842.000000</td>\n",
       "    </tr>\n",
       "    <tr>\n",
       "      <th>mean</th>\n",
       "      <td>38.643585</td>\n",
       "      <td>1.896641e+05</td>\n",
       "      <td>10.078089</td>\n",
       "      <td>1079.067626</td>\n",
       "      <td>87.502314</td>\n",
       "      <td>40.422382</td>\n",
       "    </tr>\n",
       "    <tr>\n",
       "      <th>std</th>\n",
       "      <td>13.710510</td>\n",
       "      <td>1.056040e+05</td>\n",
       "      <td>2.570973</td>\n",
       "      <td>7452.019058</td>\n",
       "      <td>403.004552</td>\n",
       "      <td>12.391444</td>\n",
       "    </tr>\n",
       "    <tr>\n",
       "      <th>min</th>\n",
       "      <td>17.000000</td>\n",
       "      <td>1.228500e+04</td>\n",
       "      <td>1.000000</td>\n",
       "      <td>0.000000</td>\n",
       "      <td>0.000000</td>\n",
       "      <td>1.000000</td>\n",
       "    </tr>\n",
       "    <tr>\n",
       "      <th>25%</th>\n",
       "      <td>28.000000</td>\n",
       "      <td>1.175505e+05</td>\n",
       "      <td>9.000000</td>\n",
       "      <td>0.000000</td>\n",
       "      <td>0.000000</td>\n",
       "      <td>40.000000</td>\n",
       "    </tr>\n",
       "    <tr>\n",
       "      <th>50%</th>\n",
       "      <td>37.000000</td>\n",
       "      <td>1.781445e+05</td>\n",
       "      <td>10.000000</td>\n",
       "      <td>0.000000</td>\n",
       "      <td>0.000000</td>\n",
       "      <td>40.000000</td>\n",
       "    </tr>\n",
       "    <tr>\n",
       "      <th>75%</th>\n",
       "      <td>48.000000</td>\n",
       "      <td>2.376420e+05</td>\n",
       "      <td>12.000000</td>\n",
       "      <td>0.000000</td>\n",
       "      <td>0.000000</td>\n",
       "      <td>45.000000</td>\n",
       "    </tr>\n",
       "    <tr>\n",
       "      <th>max</th>\n",
       "      <td>90.000000</td>\n",
       "      <td>1.490400e+06</td>\n",
       "      <td>16.000000</td>\n",
       "      <td>99999.000000</td>\n",
       "      <td>4356.000000</td>\n",
       "      <td>99.000000</td>\n",
       "    </tr>\n",
       "  </tbody>\n",
       "</table>\n",
       "</div>"
      ],
      "text/plain": [
       "                age        fnlwgt  educational-num  capital-gain  \\\n",
       "count  48842.000000  4.884200e+04     48842.000000  48842.000000   \n",
       "mean      38.643585  1.896641e+05        10.078089   1079.067626   \n",
       "std       13.710510  1.056040e+05         2.570973   7452.019058   \n",
       "min       17.000000  1.228500e+04         1.000000      0.000000   \n",
       "25%       28.000000  1.175505e+05         9.000000      0.000000   \n",
       "50%       37.000000  1.781445e+05        10.000000      0.000000   \n",
       "75%       48.000000  2.376420e+05        12.000000      0.000000   \n",
       "max       90.000000  1.490400e+06        16.000000  99999.000000   \n",
       "\n",
       "       capital-loss  hours-per-week  \n",
       "count  48842.000000    48842.000000  \n",
       "mean      87.502314       40.422382  \n",
       "std      403.004552       12.391444  \n",
       "min        0.000000        1.000000  \n",
       "25%        0.000000       40.000000  \n",
       "50%        0.000000       40.000000  \n",
       "75%        0.000000       45.000000  \n",
       "max     4356.000000       99.000000  "
      ]
     },
     "execution_count": 5,
     "metadata": {},
     "output_type": "execute_result"
    }
   ],
   "source": [
    "df.describe()"
   ]
  },
  {
   "cell_type": "code",
   "execution_count": 6,
   "id": "de12ff53",
   "metadata": {},
   "outputs": [
    {
     "name": "stdout",
     "output_type": "stream",
     "text": [
      "<class 'pandas.core.frame.DataFrame'>\n",
      "RangeIndex: 48842 entries, 0 to 48841\n",
      "Data columns (total 15 columns):\n",
      " #   Column           Non-Null Count  Dtype \n",
      "---  ------           --------------  ----- \n",
      " 0   age              48842 non-null  int64 \n",
      " 1   workclass        48842 non-null  object\n",
      " 2   fnlwgt           48842 non-null  int64 \n",
      " 3   education        48842 non-null  object\n",
      " 4   educational-num  48842 non-null  int64 \n",
      " 5   marital-status   48842 non-null  object\n",
      " 6   occupation       48842 non-null  object\n",
      " 7   relationship     48842 non-null  object\n",
      " 8   race             48842 non-null  object\n",
      " 9   gender           48842 non-null  object\n",
      " 10  capital-gain     48842 non-null  int64 \n",
      " 11  capital-loss     48842 non-null  int64 \n",
      " 12  hours-per-week   48842 non-null  int64 \n",
      " 13  native-country   48842 non-null  object\n",
      " 14  income           48842 non-null  object\n",
      "dtypes: int64(6), object(9)\n",
      "memory usage: 5.6+ MB\n"
     ]
    }
   ],
   "source": [
    "df.info()"
   ]
  },
  {
   "cell_type": "code",
   "execution_count": 7,
   "id": "b847460c",
   "metadata": {},
   "outputs": [],
   "source": [
    "#Lets drop 'fnlwgt' feature as it is not useful in our analysis or further predictions"
   ]
  },
  {
   "cell_type": "code",
   "execution_count": 8,
   "id": "7c4fed09",
   "metadata": {},
   "outputs": [],
   "source": [
    "df=df.drop('fnlwgt',axis=1)"
   ]
  },
  {
   "cell_type": "code",
   "execution_count": 9,
   "id": "7f9e68f8",
   "metadata": {},
   "outputs": [],
   "source": [
    "#lets separate categorical dataframe and numerical dataframe to explore data clearly"
   ]
  },
  {
   "cell_type": "code",
   "execution_count": 10,
   "id": "787cd433",
   "metadata": {},
   "outputs": [],
   "source": [
    "df_cat=df.select_dtypes(include='object') #categorical dataframe (with target variable)"
   ]
  },
  {
   "cell_type": "code",
   "execution_count": 11,
   "id": "a4ddd5c9",
   "metadata": {},
   "outputs": [
    {
     "data": {
      "text/html": [
       "<div>\n",
       "<style scoped>\n",
       "    .dataframe tbody tr th:only-of-type {\n",
       "        vertical-align: middle;\n",
       "    }\n",
       "\n",
       "    .dataframe tbody tr th {\n",
       "        vertical-align: top;\n",
       "    }\n",
       "\n",
       "    .dataframe thead th {\n",
       "        text-align: right;\n",
       "    }\n",
       "</style>\n",
       "<table border=\"1\" class=\"dataframe\">\n",
       "  <thead>\n",
       "    <tr style=\"text-align: right;\">\n",
       "      <th></th>\n",
       "      <th>workclass</th>\n",
       "      <th>education</th>\n",
       "      <th>marital-status</th>\n",
       "      <th>occupation</th>\n",
       "      <th>relationship</th>\n",
       "      <th>race</th>\n",
       "      <th>gender</th>\n",
       "      <th>native-country</th>\n",
       "      <th>income</th>\n",
       "    </tr>\n",
       "  </thead>\n",
       "  <tbody>\n",
       "    <tr>\n",
       "      <th>0</th>\n",
       "      <td>Private</td>\n",
       "      <td>11th</td>\n",
       "      <td>Never-married</td>\n",
       "      <td>Machine-op-inspct</td>\n",
       "      <td>Own-child</td>\n",
       "      <td>Black</td>\n",
       "      <td>Male</td>\n",
       "      <td>United-States</td>\n",
       "      <td>&lt;=50K</td>\n",
       "    </tr>\n",
       "    <tr>\n",
       "      <th>1</th>\n",
       "      <td>Private</td>\n",
       "      <td>HS-grad</td>\n",
       "      <td>Married-civ-spouse</td>\n",
       "      <td>Farming-fishing</td>\n",
       "      <td>Husband</td>\n",
       "      <td>White</td>\n",
       "      <td>Male</td>\n",
       "      <td>United-States</td>\n",
       "      <td>&lt;=50K</td>\n",
       "    </tr>\n",
       "    <tr>\n",
       "      <th>2</th>\n",
       "      <td>Local-gov</td>\n",
       "      <td>Assoc-acdm</td>\n",
       "      <td>Married-civ-spouse</td>\n",
       "      <td>Protective-serv</td>\n",
       "      <td>Husband</td>\n",
       "      <td>White</td>\n",
       "      <td>Male</td>\n",
       "      <td>United-States</td>\n",
       "      <td>&gt;50K</td>\n",
       "    </tr>\n",
       "    <tr>\n",
       "      <th>3</th>\n",
       "      <td>Private</td>\n",
       "      <td>Some-college</td>\n",
       "      <td>Married-civ-spouse</td>\n",
       "      <td>Machine-op-inspct</td>\n",
       "      <td>Husband</td>\n",
       "      <td>Black</td>\n",
       "      <td>Male</td>\n",
       "      <td>United-States</td>\n",
       "      <td>&gt;50K</td>\n",
       "    </tr>\n",
       "    <tr>\n",
       "      <th>4</th>\n",
       "      <td>?</td>\n",
       "      <td>Some-college</td>\n",
       "      <td>Never-married</td>\n",
       "      <td>?</td>\n",
       "      <td>Own-child</td>\n",
       "      <td>White</td>\n",
       "      <td>Female</td>\n",
       "      <td>United-States</td>\n",
       "      <td>&lt;=50K</td>\n",
       "    </tr>\n",
       "  </tbody>\n",
       "</table>\n",
       "</div>"
      ],
      "text/plain": [
       "   workclass     education      marital-status         occupation  \\\n",
       "0    Private          11th       Never-married  Machine-op-inspct   \n",
       "1    Private       HS-grad  Married-civ-spouse    Farming-fishing   \n",
       "2  Local-gov    Assoc-acdm  Married-civ-spouse    Protective-serv   \n",
       "3    Private  Some-college  Married-civ-spouse  Machine-op-inspct   \n",
       "4          ?  Some-college       Never-married                  ?   \n",
       "\n",
       "  relationship   race  gender native-country income  \n",
       "0    Own-child  Black    Male  United-States  <=50K  \n",
       "1      Husband  White    Male  United-States  <=50K  \n",
       "2      Husband  White    Male  United-States   >50K  \n",
       "3      Husband  Black    Male  United-States   >50K  \n",
       "4    Own-child  White  Female  United-States  <=50K  "
      ]
     },
     "execution_count": 11,
     "metadata": {},
     "output_type": "execute_result"
    }
   ],
   "source": [
    "df_cat.head()"
   ]
  },
  {
   "cell_type": "code",
   "execution_count": 12,
   "id": "8c99d381",
   "metadata": {},
   "outputs": [],
   "source": [
    "df_num=df.select_dtypes(exclude='object')"
   ]
  },
  {
   "cell_type": "code",
   "execution_count": 13,
   "id": "d8c00a75",
   "metadata": {},
   "outputs": [],
   "source": [
    "df_num=pd.concat([df_num,df['income']],axis=1) #Numerical Dataframe (with target variable)"
   ]
  },
  {
   "cell_type": "code",
   "execution_count": 14,
   "id": "6dd83a35",
   "metadata": {},
   "outputs": [
    {
     "data": {
      "text/html": [
       "<div>\n",
       "<style scoped>\n",
       "    .dataframe tbody tr th:only-of-type {\n",
       "        vertical-align: middle;\n",
       "    }\n",
       "\n",
       "    .dataframe tbody tr th {\n",
       "        vertical-align: top;\n",
       "    }\n",
       "\n",
       "    .dataframe thead th {\n",
       "        text-align: right;\n",
       "    }\n",
       "</style>\n",
       "<table border=\"1\" class=\"dataframe\">\n",
       "  <thead>\n",
       "    <tr style=\"text-align: right;\">\n",
       "      <th></th>\n",
       "      <th>age</th>\n",
       "      <th>educational-num</th>\n",
       "      <th>capital-gain</th>\n",
       "      <th>capital-loss</th>\n",
       "      <th>hours-per-week</th>\n",
       "      <th>income</th>\n",
       "    </tr>\n",
       "  </thead>\n",
       "  <tbody>\n",
       "    <tr>\n",
       "      <th>0</th>\n",
       "      <td>25</td>\n",
       "      <td>7</td>\n",
       "      <td>0</td>\n",
       "      <td>0</td>\n",
       "      <td>40</td>\n",
       "      <td>&lt;=50K</td>\n",
       "    </tr>\n",
       "    <tr>\n",
       "      <th>1</th>\n",
       "      <td>38</td>\n",
       "      <td>9</td>\n",
       "      <td>0</td>\n",
       "      <td>0</td>\n",
       "      <td>50</td>\n",
       "      <td>&lt;=50K</td>\n",
       "    </tr>\n",
       "    <tr>\n",
       "      <th>2</th>\n",
       "      <td>28</td>\n",
       "      <td>12</td>\n",
       "      <td>0</td>\n",
       "      <td>0</td>\n",
       "      <td>40</td>\n",
       "      <td>&gt;50K</td>\n",
       "    </tr>\n",
       "    <tr>\n",
       "      <th>3</th>\n",
       "      <td>44</td>\n",
       "      <td>10</td>\n",
       "      <td>7688</td>\n",
       "      <td>0</td>\n",
       "      <td>40</td>\n",
       "      <td>&gt;50K</td>\n",
       "    </tr>\n",
       "    <tr>\n",
       "      <th>4</th>\n",
       "      <td>18</td>\n",
       "      <td>10</td>\n",
       "      <td>0</td>\n",
       "      <td>0</td>\n",
       "      <td>30</td>\n",
       "      <td>&lt;=50K</td>\n",
       "    </tr>\n",
       "  </tbody>\n",
       "</table>\n",
       "</div>"
      ],
      "text/plain": [
       "   age  educational-num  capital-gain  capital-loss  hours-per-week income\n",
       "0   25                7             0             0              40  <=50K\n",
       "1   38                9             0             0              50  <=50K\n",
       "2   28               12             0             0              40   >50K\n",
       "3   44               10          7688             0              40   >50K\n",
       "4   18               10             0             0              30  <=50K"
      ]
     },
     "execution_count": 14,
     "metadata": {},
     "output_type": "execute_result"
    }
   ],
   "source": [
    "df_num.head()"
   ]
  },
  {
   "cell_type": "code",
   "execution_count": 15,
   "id": "4541029d",
   "metadata": {},
   "outputs": [],
   "source": [
    "#Lets check feature deatails:"
   ]
  },
  {
   "cell_type": "code",
   "execution_count": 16,
   "id": "731bdb27",
   "metadata": {},
   "outputs": [],
   "source": [
    "class feature_details:\n",
    "    \n",
    "    \n",
    "    def categorical_feature_details(self,categorical_df):\n",
    "        \n",
    "        print(\"\\n==================================================================\")\n",
    "        print(\"                   CATEGORICAL FEATURE DETAILS                     \")\n",
    "        print(\"==================================================================\")\n",
    "        \n",
    "        cols=categorical_df.columns\n",
    "    \n",
    "        for col in cols:\n",
    "            print(\"\\n\\n________________\")\n",
    "            print(\"\\nFeature: {}\".format(col))\n",
    "            print(\"________________\")\n",
    "\n",
    "\n",
    "\n",
    "            #nulls\n",
    "            \n",
    "            print('\\n\\nNULLS:-\\n')\n",
    "            nulls=df[col].isnull().sum()\n",
    "            pernulls=np.round((nulls/(len(df[col])))*100,2)\n",
    "            print(\"    {} % Null values \\n    (i.e Out of {} instaces, there are {} Number of null values)\".format(pernulls,len(df[col]),nulls))\n",
    "\n",
    "\n",
    "\n",
    "            #uniques\n",
    "\n",
    "            print('\\nUNIQUES:-\\n')\n",
    "            nuniqs=df[col].nunique()\n",
    "            print(\"    Total {} unique values\".format(nuniqs))\n",
    "\n",
    "            uniqs=df[col].unique()\n",
    "            print(\"\\n    Unique values are:\")\n",
    "            for i in range(len(uniqs)):\n",
    "                print('    ',i+1,'-',uniqs[i])\n",
    "                \n",
    "            \n",
    "            #value_counts\n",
    "            \n",
    "            val_cnt=df[col].value_counts()\n",
    "            print(\"\\n    Unique values counts:\")\n",
    "            print(\"        \")\n",
    "            print(val_cnt)\n",
    "                \n",
    "                \n",
    "                \n",
    "                \n",
    "    def categorywise_outliers_details(self,categorical_df,target_column):\n",
    "        \n",
    "        df=pd.concat([categorical_df,target_column],axis=1)\n",
    "        targetcol=target_column.name\n",
    "        cols=df.columns\n",
    "        \n",
    "        \n",
    "        print(\"\\n=====================================================================\")\n",
    "        print(\"\\n                   CATEGORYWISE OUTLIERS DETAILS:                    \")\n",
    "        print(\"               (with respect to target variable: {} )               \\n\".format(targetcol))\n",
    "\n",
    "        print(\"=====================================================================\")\n",
    "        \n",
    "        \n",
    "        for i in range(len(cols)):\n",
    "\n",
    "            col=cols[i]\n",
    "\n",
    "            if col==targetcol:\n",
    "                continue\n",
    "            else:\n",
    "                print(\"\\n\\n________________\")\n",
    "                print(\"\\nCOLUMN: {} \".format(col.upper()))\n",
    "                print(\"________________\")\n",
    "                cats=df[col].unique()\n",
    "            \n",
    "            for i in range(len(cats)):\n",
    "                cat=cats[i]\n",
    "\n",
    "                print(\"\\n\\n      {}. Category: {} \\n\".format(i+1,cat))\n",
    "\n",
    "\n",
    "\n",
    "                q75,q25=np.percentile(df[df[col]==cat][targetcol],[75,25])\n",
    "                iqr=np.round(q75-q25,3)\n",
    "                upperlim=np.round(q75+(1.5*iqr),3)\n",
    "                lowerlim=np.round(q25-(1.5*iqr),3)\n",
    "\n",
    "\n",
    "\n",
    "                upper_indexes=df[(df[col]==cat) & (df[targetcol]>upperlim)].index\n",
    "                lower_indexes=df[(df[col]==cat) & (df[targetcol]<lowerlim)].index\n",
    "\n",
    "                mini=df[df[col]==cat][targetcol].min()\n",
    "                maxi=df[df[col]==cat][targetcol].max()\n",
    "                avg=np.round(df[df[col]==cat][targetcol].mean(),2)\n",
    "                print(\"                Minimum {} for {} is: {}\".format(targetcol,cat,mini))\n",
    "                print(\"                Maximum {} for {} is: {}\".format(targetcol,cat,maxi))\n",
    "                print(\"                Average {} for {} is: {}\\n\".format(targetcol,cat,avg))\n",
    "                \n",
    "                print(\"                Upper Limit is {}\".format(upperlim))\n",
    "                print(\"                Lower Limit is {}\".format(lowerlim))\n",
    "                \n",
    "                \n",
    "                \n",
    "                if (len(upper_indexes)>0) or (len(lower_indexes)>0):\n",
    "\n",
    "                    if len(upper_indexes)>0:\n",
    "                        print(\"\\n                  >>> HIGHER OUTLIERS: {} \".format(len(upper_indexes)))\n",
    "                        print(\"                \\nOutliers are at index nos: \\n\",list(upper_indexes))\n",
    "                        \n",
    "\n",
    "                    if len(lower_indexes)>0:\n",
    "                        print(\"                  >>> LOWER OUTLIERS: {} \\n\".format(len(lower_indexes)))\n",
    "                        print(\"                \\nOutliers are at index nos: \\n\",list(lower_indexes))\n",
    "                        \n",
    "\n",
    "                else:\n",
    "                    print(\"                  NO OUTLIERS\")\n",
    "                    \n",
    "                    \n",
    "                \n",
    "            \n",
    "                \n",
    "\n",
    "                \n",
    "                \n",
    "    def numerical_feature_details(self,numerical_df):\n",
    "        print(\"\\n==================================================================\")\n",
    "        print(\"                   NUMERICAL FEATURE DETAILS                     \")\n",
    "        print(\"==================================================================\")\n",
    "        \n",
    "        cols=numerical_df.columns\n",
    "\n",
    "        for col in cols:\n",
    "            print(\"\\n\\n________________\")\n",
    "            print(\"\\nFeature: {}\".format(col))\n",
    "            print(\"________________\\n\")\n",
    "\n",
    "\n",
    "            \n",
    "            mins=df[col].min()\n",
    "            maxs=df[col].max()\n",
    "            avgs=np.round(df[col].mean(),2)\n",
    "            \n",
    "            print(\"Minimum {} is {}\".format(col,mins))\n",
    "            print(\"Maximum {} is {}\".format(col,maxs))\n",
    "            print(\"Average {} is {}\".format(col,avgs))\n",
    "            \n",
    "            \n",
    "            \n",
    "            \n",
    "            #nulls\n",
    "\n",
    "            print('\\n\\nNULLS:-\\n')\n",
    "            nulls=df[col].isnull().sum()\n",
    "            pernulls=np.round((nulls/(len(df[col])))*100,2)\n",
    "            print(\"    {} % Null values \\n    (i.e Out of {} instaces, there are {} Number of null values)\".format(pernulls,len(df[col]),nulls))\n",
    "\n",
    "\n",
    "\n",
    "            #uniques\n",
    "\n",
    "            print('\\nUNIQUES:-\\n')\n",
    "            nuniqs=df[col].nunique()\n",
    "            print(\"    Total {} unique values\".format(nuniqs))\n",
    "\n",
    "\n",
    "\n",
    "            #outliers\n",
    "            \n",
    "            print('\\nOUTLIERS:-\\n')\n",
    "\n",
    "\n",
    "            q75,q25=np.percentile(df[col],[75,25])\n",
    "            iqr=np.round(q75-q25,3)\n",
    "            upperlim=np.round(q75+(1.5*iqr),3)\n",
    "            lowerlim=np.round(q25-(1.5*iqr),3)\n",
    "            \n",
    "            print(\"    25th Percentile is: \",q25)\n",
    "            print(\"    75th Percentile is: \",q75)\n",
    "\n",
    "            print(\"    Inter Quartile range is: \",iqr)\n",
    "\n",
    "            print(\"    Upper limit is: \", upperlim)\n",
    "            print(\"    Lower limit is: \", lowerlim)\n",
    "                        \n",
    "            print('\\n')    \n",
    "            print(\"    >>> HIGHER OUTLIERS: {} \".format(len(df[df[col]>upperlim])))\n",
    "            print(\"    >>> LOWER OUTLIERS: {} \".format(len(df[df[col]<lowerlim])))\n",
    "            print('\\n\\n')\n",
    "\n",
    "\n",
    "            \n",
    "            \n",
    "\n",
    "       "
   ]
  },
  {
   "cell_type": "code",
   "execution_count": 17,
   "id": "fb69c58e",
   "metadata": {},
   "outputs": [],
   "source": [
    "feature_details=feature_details()"
   ]
  },
  {
   "cell_type": "code",
   "execution_count": 18,
   "id": "18b7cafb",
   "metadata": {},
   "outputs": [],
   "source": [
    "#Lets check categorical feature details:"
   ]
  },
  {
   "cell_type": "code",
   "execution_count": 19,
   "id": "438b7764",
   "metadata": {},
   "outputs": [
    {
     "name": "stdout",
     "output_type": "stream",
     "text": [
      "\n",
      "==================================================================\n",
      "                   CATEGORICAL FEATURE DETAILS                     \n",
      "==================================================================\n",
      "\n",
      "\n",
      "________________\n",
      "\n",
      "Feature: workclass\n",
      "________________\n",
      "\n",
      "\n",
      "NULLS:-\n",
      "\n",
      "    0.0 % Null values \n",
      "    (i.e Out of 48842 instaces, there are 0 Number of null values)\n",
      "\n",
      "UNIQUES:-\n",
      "\n",
      "    Total 9 unique values\n",
      "\n",
      "    Unique values are:\n",
      "     1 - Private\n",
      "     2 - Local-gov\n",
      "     3 - ?\n",
      "     4 - Self-emp-not-inc\n",
      "     5 - Federal-gov\n",
      "     6 - State-gov\n",
      "     7 - Self-emp-inc\n",
      "     8 - Without-pay\n",
      "     9 - Never-worked\n",
      "\n",
      "    Unique values counts:\n",
      "        \n",
      "Private             33906\n",
      "Self-emp-not-inc     3862\n",
      "Local-gov            3136\n",
      "?                    2799\n",
      "State-gov            1981\n",
      "Self-emp-inc         1695\n",
      "Federal-gov          1432\n",
      "Without-pay            21\n",
      "Never-worked           10\n",
      "Name: workclass, dtype: int64\n",
      "\n",
      "\n",
      "________________\n",
      "\n",
      "Feature: education\n",
      "________________\n",
      "\n",
      "\n",
      "NULLS:-\n",
      "\n",
      "    0.0 % Null values \n",
      "    (i.e Out of 48842 instaces, there are 0 Number of null values)\n",
      "\n",
      "UNIQUES:-\n",
      "\n",
      "    Total 16 unique values\n",
      "\n",
      "    Unique values are:\n",
      "     1 - 11th\n",
      "     2 - HS-grad\n",
      "     3 - Assoc-acdm\n",
      "     4 - Some-college\n",
      "     5 - 10th\n",
      "     6 - Prof-school\n",
      "     7 - 7th-8th\n",
      "     8 - Bachelors\n",
      "     9 - Masters\n",
      "     10 - Doctorate\n",
      "     11 - 5th-6th\n",
      "     12 - Assoc-voc\n",
      "     13 - 9th\n",
      "     14 - 12th\n",
      "     15 - 1st-4th\n",
      "     16 - Preschool\n",
      "\n",
      "    Unique values counts:\n",
      "        \n",
      "HS-grad         15784\n",
      "Some-college    10878\n",
      "Bachelors        8025\n",
      "Masters          2657\n",
      "Assoc-voc        2061\n",
      "11th             1812\n",
      "Assoc-acdm       1601\n",
      "10th             1389\n",
      "7th-8th           955\n",
      "Prof-school       834\n",
      "9th               756\n",
      "12th              657\n",
      "Doctorate         594\n",
      "5th-6th           509\n",
      "1st-4th           247\n",
      "Preschool          83\n",
      "Name: education, dtype: int64\n",
      "\n",
      "\n",
      "________________\n",
      "\n",
      "Feature: marital-status\n",
      "________________\n",
      "\n",
      "\n",
      "NULLS:-\n",
      "\n",
      "    0.0 % Null values \n",
      "    (i.e Out of 48842 instaces, there are 0 Number of null values)\n",
      "\n",
      "UNIQUES:-\n",
      "\n",
      "    Total 7 unique values\n",
      "\n",
      "    Unique values are:\n",
      "     1 - Never-married\n",
      "     2 - Married-civ-spouse\n",
      "     3 - Widowed\n",
      "     4 - Divorced\n",
      "     5 - Separated\n",
      "     6 - Married-spouse-absent\n",
      "     7 - Married-AF-spouse\n",
      "\n",
      "    Unique values counts:\n",
      "        \n",
      "Married-civ-spouse       22379\n",
      "Never-married            16117\n",
      "Divorced                  6633\n",
      "Separated                 1530\n",
      "Widowed                   1518\n",
      "Married-spouse-absent      628\n",
      "Married-AF-spouse           37\n",
      "Name: marital-status, dtype: int64\n",
      "\n",
      "\n",
      "________________\n",
      "\n",
      "Feature: occupation\n",
      "________________\n",
      "\n",
      "\n",
      "NULLS:-\n",
      "\n",
      "    0.0 % Null values \n",
      "    (i.e Out of 48842 instaces, there are 0 Number of null values)\n",
      "\n",
      "UNIQUES:-\n",
      "\n",
      "    Total 15 unique values\n",
      "\n",
      "    Unique values are:\n",
      "     1 - Machine-op-inspct\n",
      "     2 - Farming-fishing\n",
      "     3 - Protective-serv\n",
      "     4 - ?\n",
      "     5 - Other-service\n",
      "     6 - Prof-specialty\n",
      "     7 - Craft-repair\n",
      "     8 - Adm-clerical\n",
      "     9 - Exec-managerial\n",
      "     10 - Tech-support\n",
      "     11 - Sales\n",
      "     12 - Priv-house-serv\n",
      "     13 - Transport-moving\n",
      "     14 - Handlers-cleaners\n",
      "     15 - Armed-Forces\n",
      "\n",
      "    Unique values counts:\n",
      "        \n",
      "Prof-specialty       6172\n",
      "Craft-repair         6112\n",
      "Exec-managerial      6086\n",
      "Adm-clerical         5611\n",
      "Sales                5504\n",
      "Other-service        4923\n",
      "Machine-op-inspct    3022\n",
      "?                    2809\n",
      "Transport-moving     2355\n",
      "Handlers-cleaners    2072\n",
      "Farming-fishing      1490\n",
      "Tech-support         1446\n",
      "Protective-serv       983\n",
      "Priv-house-serv       242\n",
      "Armed-Forces           15\n",
      "Name: occupation, dtype: int64\n",
      "\n",
      "\n",
      "________________\n",
      "\n",
      "Feature: relationship\n",
      "________________\n",
      "\n",
      "\n",
      "NULLS:-\n",
      "\n",
      "    0.0 % Null values \n",
      "    (i.e Out of 48842 instaces, there are 0 Number of null values)\n",
      "\n",
      "UNIQUES:-\n",
      "\n",
      "    Total 6 unique values\n",
      "\n",
      "    Unique values are:\n",
      "     1 - Own-child\n",
      "     2 - Husband\n",
      "     3 - Not-in-family\n",
      "     4 - Unmarried\n",
      "     5 - Wife\n",
      "     6 - Other-relative\n",
      "\n",
      "    Unique values counts:\n",
      "        \n",
      "Husband           19716\n",
      "Not-in-family     12583\n",
      "Own-child          7581\n",
      "Unmarried          5125\n",
      "Wife               2331\n",
      "Other-relative     1506\n",
      "Name: relationship, dtype: int64\n",
      "\n",
      "\n",
      "________________\n",
      "\n",
      "Feature: race\n",
      "________________\n",
      "\n",
      "\n",
      "NULLS:-\n",
      "\n",
      "    0.0 % Null values \n",
      "    (i.e Out of 48842 instaces, there are 0 Number of null values)\n",
      "\n",
      "UNIQUES:-\n",
      "\n",
      "    Total 5 unique values\n",
      "\n",
      "    Unique values are:\n",
      "     1 - Black\n",
      "     2 - White\n",
      "     3 - Asian-Pac-Islander\n",
      "     4 - Other\n",
      "     5 - Amer-Indian-Eskimo\n",
      "\n",
      "    Unique values counts:\n",
      "        \n",
      "White                 41762\n",
      "Black                  4685\n",
      "Asian-Pac-Islander     1519\n",
      "Amer-Indian-Eskimo      470\n",
      "Other                   406\n",
      "Name: race, dtype: int64\n",
      "\n",
      "\n",
      "________________\n",
      "\n",
      "Feature: gender\n",
      "________________\n",
      "\n",
      "\n",
      "NULLS:-\n",
      "\n",
      "    0.0 % Null values \n",
      "    (i.e Out of 48842 instaces, there are 0 Number of null values)\n",
      "\n",
      "UNIQUES:-\n",
      "\n",
      "    Total 2 unique values\n",
      "\n",
      "    Unique values are:\n",
      "     1 - Male\n",
      "     2 - Female\n",
      "\n",
      "    Unique values counts:\n",
      "        \n",
      "Male      32650\n",
      "Female    16192\n",
      "Name: gender, dtype: int64\n",
      "\n",
      "\n",
      "________________\n",
      "\n",
      "Feature: native-country\n",
      "________________\n",
      "\n",
      "\n",
      "NULLS:-\n",
      "\n",
      "    0.0 % Null values \n",
      "    (i.e Out of 48842 instaces, there are 0 Number of null values)\n",
      "\n",
      "UNIQUES:-\n",
      "\n",
      "    Total 42 unique values\n",
      "\n",
      "    Unique values are:\n",
      "     1 - United-States\n",
      "     2 - ?\n",
      "     3 - Peru\n",
      "     4 - Guatemala\n",
      "     5 - Mexico\n",
      "     6 - Dominican-Republic\n",
      "     7 - Ireland\n",
      "     8 - Germany\n",
      "     9 - Philippines\n",
      "     10 - Thailand\n",
      "     11 - Haiti\n",
      "     12 - El-Salvador\n",
      "     13 - Puerto-Rico\n",
      "     14 - Vietnam\n",
      "     15 - South\n",
      "     16 - Columbia\n",
      "     17 - Japan\n",
      "     18 - India\n",
      "     19 - Cambodia\n",
      "     20 - Poland\n",
      "     21 - Laos\n",
      "     22 - England\n",
      "     23 - Cuba\n",
      "     24 - Taiwan\n",
      "     25 - Italy\n",
      "     26 - Canada\n",
      "     27 - Portugal\n",
      "     28 - China\n",
      "     29 - Nicaragua\n",
      "     30 - Honduras\n",
      "     31 - Iran\n",
      "     32 - Scotland\n",
      "     33 - Jamaica\n",
      "     34 - Ecuador\n",
      "     35 - Yugoslavia\n",
      "     36 - Hungary\n",
      "     37 - Hong\n",
      "     38 - Greece\n",
      "     39 - Trinadad&Tobago\n",
      "     40 - Outlying-US(Guam-USVI-etc)\n",
      "     41 - France\n",
      "     42 - Holand-Netherlands\n",
      "\n",
      "    Unique values counts:\n",
      "        \n",
      "United-States                 43832\n",
      "Mexico                          951\n",
      "?                               857\n",
      "Philippines                     295\n",
      "Germany                         206\n",
      "Puerto-Rico                     184\n",
      "Canada                          182\n",
      "El-Salvador                     155\n",
      "India                           151\n",
      "Cuba                            138\n",
      "England                         127\n",
      "China                           122\n",
      "South                           115\n",
      "Jamaica                         106\n",
      "Italy                           105\n",
      "Dominican-Republic              103\n",
      "Japan                            92\n",
      "Guatemala                        88\n",
      "Poland                           87\n",
      "Vietnam                          86\n",
      "Columbia                         85\n",
      "Haiti                            75\n",
      "Portugal                         67\n",
      "Taiwan                           65\n",
      "Iran                             59\n",
      "Greece                           49\n",
      "Nicaragua                        49\n",
      "Peru                             46\n",
      "Ecuador                          45\n",
      "France                           38\n",
      "Ireland                          37\n",
      "Hong                             30\n",
      "Thailand                         30\n",
      "Cambodia                         28\n",
      "Trinadad&Tobago                  27\n",
      "Laos                             23\n",
      "Yugoslavia                       23\n",
      "Outlying-US(Guam-USVI-etc)       23\n",
      "Scotland                         21\n",
      "Honduras                         20\n",
      "Hungary                          19\n",
      "Holand-Netherlands                1\n",
      "Name: native-country, dtype: int64\n",
      "\n",
      "\n",
      "________________\n",
      "\n",
      "Feature: income\n",
      "________________\n",
      "\n",
      "\n",
      "NULLS:-\n",
      "\n",
      "    0.0 % Null values \n",
      "    (i.e Out of 48842 instaces, there are 0 Number of null values)\n",
      "\n",
      "UNIQUES:-\n",
      "\n",
      "    Total 2 unique values\n",
      "\n",
      "    Unique values are:\n",
      "     1 - <=50K\n",
      "     2 - >50K\n",
      "\n",
      "    Unique values counts:\n",
      "        \n",
      "<=50K    37155\n",
      ">50K     11687\n",
      "Name: income, dtype: int64\n"
     ]
    }
   ],
   "source": [
    "feature_details.categorical_feature_details(df_cat)"
   ]
  },
  {
   "cell_type": "markdown",
   "id": "238b6e89",
   "metadata": {},
   "source": [
    "##### 1. Feature - age"
   ]
  },
  {
   "cell_type": "code",
   "execution_count": 20,
   "id": "7041920e",
   "metadata": {
    "scrolled": true
   },
   "outputs": [
    {
     "data": {
      "text/plain": [
       "<Figure size 1010x606 with 0 Axes>"
      ]
     },
     "metadata": {},
     "output_type": "display_data"
    },
    {
     "data": {
      "image/png": "[encoded data removed]",
      "text/plain": [
       "<Figure size 432.125x360 with 1 Axes>"
      ]
     },
     "metadata": {
      "needs_background": "light"
     },
     "output_type": "display_data"
    }
   ],
   "source": [
    "plt.figure(figsize=(10,6),dpi=101)\n",
    "ax=sns.displot(data=df,x='age',bins=20,kde=True,hue='gender')"
   ]
  },
  {
   "cell_type": "code",
   "execution_count": 21,
   "id": "378a8d53",
   "metadata": {},
   "outputs": [
    {
     "data": {
      "image/png": "[encoded data removed]",
      "text/plain": [
       "<Figure size 432x288 with 1 Axes>"
      ]
     },
     "metadata": {
      "needs_background": "light"
     },
     "output_type": "display_data"
    }
   ],
   "source": [
    "ax=sns.countplot(data=df,x='gender')\n",
    "ax.bar_label(ax.containers[0]);"
   ]
  },
  {
   "cell_type": "markdown",
   "id": "fd90a614",
   "metadata": {},
   "source": [
    "Observation: Although the Female count is lesser than Male count, The Distribution of age with respect to gender is similar for both Male and Female."
   ]
  },
  {
   "cell_type": "code",
   "execution_count": 22,
   "id": "e172b90a",
   "metadata": {},
   "outputs": [
    {
     "data": {
      "text/plain": [
       "<Figure size 1010x606 with 0 Axes>"
      ]
     },
     "metadata": {},
     "output_type": "display_data"
    },
    {
     "data": {
      "image/png": "[encoded data removed]",
      "text/plain": [
       "<Figure size 431.875x360 with 1 Axes>"
      ]
     },
     "metadata": {
      "needs_background": "light"
     },
     "output_type": "display_data"
    }
   ],
   "source": [
    "plt.figure(figsize=(10,6),dpi=101)\n",
    "ax=sns.displot(data=df,x='age',bins=20,kde=True,hue='income')"
   ]
  },
  {
   "cell_type": "code",
   "execution_count": 23,
   "id": "b145f69e",
   "metadata": {},
   "outputs": [
    {
     "data": {
      "text/plain": [
       "17"
      ]
     },
     "execution_count": 23,
     "metadata": {},
     "output_type": "execute_result"
    }
   ],
   "source": [
    "df['age'].min()"
   ]
  },
  {
   "cell_type": "markdown",
   "id": "1f7c98fb",
   "metadata": {},
   "source": [
    "Observation: \n",
    "1. people with income greater than 50k are more dense between 35 to 55 age group\n",
    "2. people with income less than 50k are more at age group between 17 to 35 years"
   ]
  },
  {
   "cell_type": "markdown",
   "id": "3e2df411",
   "metadata": {},
   "source": [
    "###### 2. Feature - workclass"
   ]
  },
  {
   "cell_type": "code",
   "execution_count": 24,
   "id": "215ae0df",
   "metadata": {},
   "outputs": [
    {
     "data": {
      "text/plain": [
       "Private             33906\n",
       "Self-emp-not-inc     3862\n",
       "Local-gov            3136\n",
       "?                    2799\n",
       "State-gov            1981\n",
       "Self-emp-inc         1695\n",
       "Federal-gov          1432\n",
       "Without-pay            21\n",
       "Never-worked           10\n",
       "Name: workclass, dtype: int64"
      ]
     },
     "execution_count": 24,
     "metadata": {},
     "output_type": "execute_result"
    }
   ],
   "source": [
    "df['workclass'].value_counts()"
   ]
  },
  {
   "cell_type": "code",
   "execution_count": 25,
   "id": "c7893940",
   "metadata": {},
   "outputs": [],
   "source": [
    "#2799 missing values out of 48842 (i.e 5.7%) in workclass\n",
    "#Lets fill missing value with mode (i.e 'Private' value)"
   ]
  },
  {
   "cell_type": "code",
   "execution_count": 26,
   "id": "602f4352",
   "metadata": {},
   "outputs": [],
   "source": [
    "df['workclass']=df['workclass'].replace('?',df['workclass'].mode()[0])"
   ]
  },
  {
   "cell_type": "code",
   "execution_count": 27,
   "id": "bca150dc",
   "metadata": {},
   "outputs": [
    {
     "data": {
      "text/plain": [
       "Private             36705\n",
       "Self-emp-not-inc     3862\n",
       "Local-gov            3136\n",
       "State-gov            1981\n",
       "Self-emp-inc         1695\n",
       "Federal-gov          1432\n",
       "Without-pay            21\n",
       "Never-worked           10\n",
       "Name: workclass, dtype: int64"
      ]
     },
     "execution_count": 27,
     "metadata": {},
     "output_type": "execute_result"
    }
   ],
   "source": [
    "df['workclass'].value_counts()"
   ]
  },
  {
   "cell_type": "code",
   "execution_count": 28,
   "id": "dc8b415e",
   "metadata": {},
   "outputs": [
    {
     "data": {
      "image/png": "[encoded data removed]",
      "text/plain": [
       "<Figure size 1010x606 with 1 Axes>"
      ]
     },
     "metadata": {
      "needs_background": "light"
     },
     "output_type": "display_data"
    }
   ],
   "source": [
    "plt.figure(figsize=(10,6),dpi=101)\n",
    "ax=sns.countplot(data=df,x='workclass',hue='income')\n",
    "for i in ax.containers:\n",
    "    ax.bar_label(i,)\n",
    "plt.xticks(rotation = 90);"
   ]
  },
  {
   "cell_type": "markdown",
   "id": "513928ea",
   "metadata": {},
   "source": [
    "###### 3. Feature - education"
   ]
  },
  {
   "cell_type": "code",
   "execution_count": 29,
   "id": "89149154",
   "metadata": {},
   "outputs": [
    {
     "data": {
      "text/plain": [
       "HS-grad         15784\n",
       "Some-college    10878\n",
       "Bachelors        8025\n",
       "Masters          2657\n",
       "Assoc-voc        2061\n",
       "11th             1812\n",
       "Assoc-acdm       1601\n",
       "10th             1389\n",
       "7th-8th           955\n",
       "Prof-school       834\n",
       "9th               756\n",
       "12th              657\n",
       "Doctorate         594\n",
       "5th-6th           509\n",
       "1st-4th           247\n",
       "Preschool          83\n",
       "Name: education, dtype: int64"
      ]
     },
     "execution_count": 29,
     "metadata": {},
     "output_type": "execute_result"
    }
   ],
   "source": [
    "df['education'].value_counts()"
   ]
  },
  {
   "cell_type": "code",
   "execution_count": 30,
   "id": "760a8884",
   "metadata": {},
   "outputs": [
    {
     "data": {
      "image/png": "[encoded data removed]",
      "text/plain": [
       "<Figure size 1515x707 with 1 Axes>"
      ]
     },
     "metadata": {
      "needs_background": "light"
     },
     "output_type": "display_data"
    }
   ],
   "source": [
    "plt.figure(figsize=(15,7),dpi=101)\n",
    "ax=sns.countplot(data=df,x='education',hue='income')\n",
    "for i in ax.containers:\n",
    "    ax.bar_label(i,)\n",
    "plt.xticks(rotation = 90);"
   ]
  },
  {
   "cell_type": "markdown",
   "id": "5fb0d230",
   "metadata": {},
   "source": [
    "Observation: \n",
    "1. people with income less than 50k is most likely to have completed their education uptill HS-grad or some-college\n",
    "2. people with income higher than 50k is most likely to have completed their Bachelors"
   ]
  },
  {
   "cell_type": "markdown",
   "id": "1820073d",
   "metadata": {},
   "source": [
    "###### 4. Feature - Occupation"
   ]
  },
  {
   "cell_type": "code",
   "execution_count": 31,
   "id": "5a68317c",
   "metadata": {
    "scrolled": true
   },
   "outputs": [
    {
     "data": {
      "text/plain": [
       "Prof-specialty       6172\n",
       "Craft-repair         6112\n",
       "Exec-managerial      6086\n",
       "Adm-clerical         5611\n",
       "Sales                5504\n",
       "Other-service        4923\n",
       "Machine-op-inspct    3022\n",
       "?                    2809\n",
       "Transport-moving     2355\n",
       "Handlers-cleaners    2072\n",
       "Farming-fishing      1490\n",
       "Tech-support         1446\n",
       "Protective-serv       983\n",
       "Priv-house-serv       242\n",
       "Armed-Forces           15\n",
       "Name: occupation, dtype: int64"
      ]
     },
     "execution_count": 31,
     "metadata": {},
     "output_type": "execute_result"
    }
   ],
   "source": [
    "df['occupation'].value_counts()"
   ]
  },
  {
   "cell_type": "code",
   "execution_count": 32,
   "id": "5c42a0c6",
   "metadata": {},
   "outputs": [
    {
     "data": {
      "text/plain": [
       "<=50K    2544\n",
       ">50K      265\n",
       "Name: income, dtype: int64"
      ]
     },
     "execution_count": 32,
     "metadata": {},
     "output_type": "execute_result"
    }
   ],
   "source": [
    "df[df['occupation']=='?']['income'].value_counts()"
   ]
  },
  {
   "cell_type": "code",
   "execution_count": 33,
   "id": "d842d12e",
   "metadata": {},
   "outputs": [
    {
     "data": {
      "text/plain": [
       "Some-college    842\n",
       "HS-grad         812\n",
       "Bachelors       253\n",
       "11th            181\n",
       "10th            150\n",
       "7th-8th         111\n",
       "Assoc-voc        83\n",
       "Assoc-acdm       72\n",
       "9th              69\n",
       "Masters          67\n",
       "12th             58\n",
       "5th-6th          41\n",
       "Prof-school      24\n",
       "Doctorate        18\n",
       "1st-4th          18\n",
       "Preschool        10\n",
       "Name: education, dtype: int64"
      ]
     },
     "execution_count": 33,
     "metadata": {},
     "output_type": "execute_result"
    }
   ],
   "source": [
    "df[df['occupation']=='?']['education'].value_counts()"
   ]
  },
  {
   "cell_type": "code",
   "execution_count": 34,
   "id": "5377711e",
   "metadata": {},
   "outputs": [
    {
     "data": {
      "text/plain": [
       "Male      1536\n",
       "Female    1273\n",
       "Name: gender, dtype: int64"
      ]
     },
     "execution_count": 34,
     "metadata": {},
     "output_type": "execute_result"
    }
   ],
   "source": [
    "df[df['occupation']=='?']['gender'].value_counts()"
   ]
  },
  {
   "cell_type": "code",
   "execution_count": 35,
   "id": "4913b177",
   "metadata": {},
   "outputs": [
    {
     "data": {
      "text/plain": [
       "Never-married            1242\n",
       "Married-civ-spouse        928\n",
       "Divorced                  270\n",
       "Widowed                   222\n",
       "Separated                  97\n",
       "Married-spouse-absent      45\n",
       "Married-AF-spouse           5\n",
       "Name: marital-status, dtype: int64"
      ]
     },
     "execution_count": 35,
     "metadata": {},
     "output_type": "execute_result"
    }
   ],
   "source": [
    "df[df['occupation']=='?']['marital-status'].value_counts()"
   ]
  },
  {
   "cell_type": "code",
   "execution_count": 36,
   "id": "8a4693a4",
   "metadata": {},
   "outputs": [
    {
     "data": {
      "text/plain": [
       "United-States                 2540\n",
       "Mexico                          48\n",
       "?                               46\n",
       "Canada                          19\n",
       "South                           14\n",
       "Germany                         13\n",
       "Philippines                     12\n",
       "Taiwan                          10\n",
       "China                            9\n",
       "Puerto-Rico                      9\n",
       "El-Salvador                      8\n",
       "England                          8\n",
       "Poland                           6\n",
       "Dominican-Republic               6\n",
       "Haiti                            6\n",
       "Cuba                             5\n",
       "Portugal                         5\n",
       "Italy                            5\n",
       "India                            4\n",
       "Jamaica                          3\n",
       "Iran                             3\n",
       "Columbia                         3\n",
       "Vietnam                          3\n",
       "Japan                            3\n",
       "Guatemala                        2\n",
       "France                           2\n",
       "Cambodia                         2\n",
       "Hong                             2\n",
       "Laos                             2\n",
       "Ecuador                          2\n",
       "Honduras                         1\n",
       "Nicaragua                        1\n",
       "Trinadad&Tobago                  1\n",
       "Hungary                          1\n",
       "Ireland                          1\n",
       "Outlying-US(Guam-USVI-etc)       1\n",
       "Peru                             1\n",
       "Thailand                         1\n",
       "Scotland                         1\n",
       "Name: native-country, dtype: int64"
      ]
     },
     "execution_count": 36,
     "metadata": {},
     "output_type": "execute_result"
    }
   ],
   "source": [
    "df[df['occupation']=='?']['native-country'].value_counts()"
   ]
  },
  {
   "cell_type": "code",
   "execution_count": 37,
   "id": "b919dc87",
   "metadata": {},
   "outputs": [
    {
     "data": {
      "text/html": [
       "<div>\n",
       "<style scoped>\n",
       "    .dataframe tbody tr th:only-of-type {\n",
       "        vertical-align: middle;\n",
       "    }\n",
       "\n",
       "    .dataframe tbody tr th {\n",
       "        vertical-align: top;\n",
       "    }\n",
       "\n",
       "    .dataframe thead th {\n",
       "        text-align: right;\n",
       "    }\n",
       "</style>\n",
       "<table border=\"1\" class=\"dataframe\">\n",
       "  <thead>\n",
       "    <tr style=\"text-align: right;\">\n",
       "      <th></th>\n",
       "      <th>age</th>\n",
       "      <th>workclass</th>\n",
       "      <th>education</th>\n",
       "      <th>educational-num</th>\n",
       "      <th>marital-status</th>\n",
       "      <th>occupation</th>\n",
       "      <th>relationship</th>\n",
       "      <th>race</th>\n",
       "      <th>gender</th>\n",
       "      <th>capital-gain</th>\n",
       "      <th>capital-loss</th>\n",
       "      <th>hours-per-week</th>\n",
       "      <th>native-country</th>\n",
       "      <th>income</th>\n",
       "    </tr>\n",
       "  </thead>\n",
       "  <tbody>\n",
       "  </tbody>\n",
       "</table>\n",
       "</div>"
      ],
      "text/plain": [
       "Empty DataFrame\n",
       "Columns: [age, workclass, education, educational-num, marital-status, occupation, relationship, race, gender, capital-gain, capital-loss, hours-per-week, native-country, income]\n",
       "Index: []"
      ]
     },
     "execution_count": 37,
     "metadata": {},
     "output_type": "execute_result"
    }
   ],
   "source": [
    "df[(df['income']=='<=50K') & (df['education']=='Some-college')&(df['gender']=='male')&\n",
    "   (df['marital-status']=='Never-married')&(df['native-country']=='United-States')]"
   ]
  },
  {
   "cell_type": "code",
   "execution_count": 38,
   "id": "a9d9288f",
   "metadata": {},
   "outputs": [
    {
     "data": {
      "text/plain": [
       "Adm-clerical         770\n",
       "Other-service        684\n",
       "Sales                591\n",
       "?                    532\n",
       "Craft-repair         249\n",
       "Exec-managerial      241\n",
       "Handlers-cleaners    211\n",
       "Prof-specialty       193\n",
       "Tech-support         141\n",
       "Machine-op-inspct    136\n",
       "Transport-moving      99\n",
       "Farming-fishing       80\n",
       "Protective-serv       73\n",
       "Priv-house-serv       12\n",
       "Armed-Forces           3\n",
       "Name: occupation, dtype: int64"
      ]
     },
     "execution_count": 38,
     "metadata": {},
     "output_type": "execute_result"
    }
   ],
   "source": [
    "df[(df['income']=='<=50K')&(df['marital-status']=='Never-married')&(df['native-country']=='United-States')&(df['education']=='Some-college')]['occupation'].value_counts()"
   ]
  },
  {
   "cell_type": "code",
   "execution_count": 39,
   "id": "22246de3",
   "metadata": {},
   "outputs": [
    {
     "data": {
      "text/html": [
       "<div>\n",
       "<style scoped>\n",
       "    .dataframe tbody tr th:only-of-type {\n",
       "        vertical-align: middle;\n",
       "    }\n",
       "\n",
       "    .dataframe tbody tr th {\n",
       "        vertical-align: top;\n",
       "    }\n",
       "\n",
       "    .dataframe thead th {\n",
       "        text-align: right;\n",
       "    }\n",
       "</style>\n",
       "<table border=\"1\" class=\"dataframe\">\n",
       "  <thead>\n",
       "    <tr style=\"text-align: right;\">\n",
       "      <th></th>\n",
       "      <th>age</th>\n",
       "      <th>workclass</th>\n",
       "      <th>education</th>\n",
       "      <th>educational-num</th>\n",
       "      <th>marital-status</th>\n",
       "      <th>occupation</th>\n",
       "      <th>relationship</th>\n",
       "      <th>race</th>\n",
       "      <th>gender</th>\n",
       "      <th>capital-gain</th>\n",
       "      <th>capital-loss</th>\n",
       "      <th>hours-per-week</th>\n",
       "      <th>native-country</th>\n",
       "      <th>income</th>\n",
       "    </tr>\n",
       "  </thead>\n",
       "  <tbody>\n",
       "    <tr>\n",
       "      <th>4</th>\n",
       "      <td>18</td>\n",
       "      <td>Private</td>\n",
       "      <td>Some-college</td>\n",
       "      <td>10</td>\n",
       "      <td>Never-married</td>\n",
       "      <td>?</td>\n",
       "      <td>Own-child</td>\n",
       "      <td>White</td>\n",
       "      <td>Female</td>\n",
       "      <td>0</td>\n",
       "      <td>0</td>\n",
       "      <td>30</td>\n",
       "      <td>United-States</td>\n",
       "      <td>&lt;=50K</td>\n",
       "    </tr>\n",
       "    <tr>\n",
       "      <th>8</th>\n",
       "      <td>24</td>\n",
       "      <td>Private</td>\n",
       "      <td>Some-college</td>\n",
       "      <td>10</td>\n",
       "      <td>Never-married</td>\n",
       "      <td>Other-service</td>\n",
       "      <td>Unmarried</td>\n",
       "      <td>White</td>\n",
       "      <td>Female</td>\n",
       "      <td>0</td>\n",
       "      <td>0</td>\n",
       "      <td>40</td>\n",
       "      <td>United-States</td>\n",
       "      <td>&lt;=50K</td>\n",
       "    </tr>\n",
       "    <tr>\n",
       "      <th>16</th>\n",
       "      <td>20</td>\n",
       "      <td>State-gov</td>\n",
       "      <td>Some-college</td>\n",
       "      <td>10</td>\n",
       "      <td>Never-married</td>\n",
       "      <td>Other-service</td>\n",
       "      <td>Own-child</td>\n",
       "      <td>White</td>\n",
       "      <td>Male</td>\n",
       "      <td>0</td>\n",
       "      <td>0</td>\n",
       "      <td>25</td>\n",
       "      <td>United-States</td>\n",
       "      <td>&lt;=50K</td>\n",
       "    </tr>\n",
       "    <tr>\n",
       "      <th>21</th>\n",
       "      <td>34</td>\n",
       "      <td>Private</td>\n",
       "      <td>Some-college</td>\n",
       "      <td>10</td>\n",
       "      <td>Never-married</td>\n",
       "      <td>Other-service</td>\n",
       "      <td>Own-child</td>\n",
       "      <td>Black</td>\n",
       "      <td>Female</td>\n",
       "      <td>0</td>\n",
       "      <td>0</td>\n",
       "      <td>35</td>\n",
       "      <td>United-States</td>\n",
       "      <td>&lt;=50K</td>\n",
       "    </tr>\n",
       "    <tr>\n",
       "      <th>29</th>\n",
       "      <td>32</td>\n",
       "      <td>Self-emp-not-inc</td>\n",
       "      <td>Some-college</td>\n",
       "      <td>10</td>\n",
       "      <td>Never-married</td>\n",
       "      <td>Prof-specialty</td>\n",
       "      <td>Not-in-family</td>\n",
       "      <td>White</td>\n",
       "      <td>Male</td>\n",
       "      <td>0</td>\n",
       "      <td>0</td>\n",
       "      <td>60</td>\n",
       "      <td>United-States</td>\n",
       "      <td>&lt;=50K</td>\n",
       "    </tr>\n",
       "    <tr>\n",
       "      <th>...</th>\n",
       "      <td>...</td>\n",
       "      <td>...</td>\n",
       "      <td>...</td>\n",
       "      <td>...</td>\n",
       "      <td>...</td>\n",
       "      <td>...</td>\n",
       "      <td>...</td>\n",
       "      <td>...</td>\n",
       "      <td>...</td>\n",
       "      <td>...</td>\n",
       "      <td>...</td>\n",
       "      <td>...</td>\n",
       "      <td>...</td>\n",
       "      <td>...</td>\n",
       "    </tr>\n",
       "    <tr>\n",
       "      <th>48764</th>\n",
       "      <td>27</td>\n",
       "      <td>Private</td>\n",
       "      <td>Some-college</td>\n",
       "      <td>10</td>\n",
       "      <td>Never-married</td>\n",
       "      <td>Other-service</td>\n",
       "      <td>Not-in-family</td>\n",
       "      <td>White</td>\n",
       "      <td>Female</td>\n",
       "      <td>0</td>\n",
       "      <td>0</td>\n",
       "      <td>25</td>\n",
       "      <td>United-States</td>\n",
       "      <td>&lt;=50K</td>\n",
       "    </tr>\n",
       "    <tr>\n",
       "      <th>48769</th>\n",
       "      <td>32</td>\n",
       "      <td>Private</td>\n",
       "      <td>Some-college</td>\n",
       "      <td>10</td>\n",
       "      <td>Never-married</td>\n",
       "      <td>Exec-managerial</td>\n",
       "      <td>Own-child</td>\n",
       "      <td>White</td>\n",
       "      <td>Male</td>\n",
       "      <td>0</td>\n",
       "      <td>0</td>\n",
       "      <td>40</td>\n",
       "      <td>United-States</td>\n",
       "      <td>&lt;=50K</td>\n",
       "    </tr>\n",
       "    <tr>\n",
       "      <th>48776</th>\n",
       "      <td>26</td>\n",
       "      <td>Private</td>\n",
       "      <td>Some-college</td>\n",
       "      <td>10</td>\n",
       "      <td>Never-married</td>\n",
       "      <td>Craft-repair</td>\n",
       "      <td>Not-in-family</td>\n",
       "      <td>White</td>\n",
       "      <td>Male</td>\n",
       "      <td>0</td>\n",
       "      <td>0</td>\n",
       "      <td>65</td>\n",
       "      <td>United-States</td>\n",
       "      <td>&lt;=50K</td>\n",
       "    </tr>\n",
       "    <tr>\n",
       "      <th>48808</th>\n",
       "      <td>22</td>\n",
       "      <td>Private</td>\n",
       "      <td>Some-college</td>\n",
       "      <td>10</td>\n",
       "      <td>Never-married</td>\n",
       "      <td>Adm-clerical</td>\n",
       "      <td>Own-child</td>\n",
       "      <td>White</td>\n",
       "      <td>Male</td>\n",
       "      <td>0</td>\n",
       "      <td>0</td>\n",
       "      <td>40</td>\n",
       "      <td>United-States</td>\n",
       "      <td>&lt;=50K</td>\n",
       "    </tr>\n",
       "    <tr>\n",
       "      <th>48836</th>\n",
       "      <td>22</td>\n",
       "      <td>Private</td>\n",
       "      <td>Some-college</td>\n",
       "      <td>10</td>\n",
       "      <td>Never-married</td>\n",
       "      <td>Protective-serv</td>\n",
       "      <td>Not-in-family</td>\n",
       "      <td>White</td>\n",
       "      <td>Male</td>\n",
       "      <td>0</td>\n",
       "      <td>0</td>\n",
       "      <td>40</td>\n",
       "      <td>United-States</td>\n",
       "      <td>&lt;=50K</td>\n",
       "    </tr>\n",
       "  </tbody>\n",
       "</table>\n",
       "<p>4015 rows × 14 columns</p>\n",
       "</div>"
      ],
      "text/plain": [
       "       age         workclass     education  educational-num marital-status  \\\n",
       "4       18           Private  Some-college               10  Never-married   \n",
       "8       24           Private  Some-college               10  Never-married   \n",
       "16      20         State-gov  Some-college               10  Never-married   \n",
       "21      34           Private  Some-college               10  Never-married   \n",
       "29      32  Self-emp-not-inc  Some-college               10  Never-married   \n",
       "...    ...               ...           ...              ...            ...   \n",
       "48764   27           Private  Some-college               10  Never-married   \n",
       "48769   32           Private  Some-college               10  Never-married   \n",
       "48776   26           Private  Some-college               10  Never-married   \n",
       "48808   22           Private  Some-college               10  Never-married   \n",
       "48836   22           Private  Some-college               10  Never-married   \n",
       "\n",
       "            occupation   relationship   race  gender  capital-gain  \\\n",
       "4                    ?      Own-child  White  Female             0   \n",
       "8        Other-service      Unmarried  White  Female             0   \n",
       "16       Other-service      Own-child  White    Male             0   \n",
       "21       Other-service      Own-child  Black  Female             0   \n",
       "29      Prof-specialty  Not-in-family  White    Male             0   \n",
       "...                ...            ...    ...     ...           ...   \n",
       "48764    Other-service  Not-in-family  White  Female             0   \n",
       "48769  Exec-managerial      Own-child  White    Male             0   \n",
       "48776     Craft-repair  Not-in-family  White    Male             0   \n",
       "48808     Adm-clerical      Own-child  White    Male             0   \n",
       "48836  Protective-serv  Not-in-family  White    Male             0   \n",
       "\n",
       "       capital-loss  hours-per-week native-country income  \n",
       "4                 0              30  United-States  <=50K  \n",
       "8                 0              40  United-States  <=50K  \n",
       "16                0              25  United-States  <=50K  \n",
       "21                0              35  United-States  <=50K  \n",
       "29                0              60  United-States  <=50K  \n",
       "...             ...             ...            ...    ...  \n",
       "48764             0              25  United-States  <=50K  \n",
       "48769             0              40  United-States  <=50K  \n",
       "48776             0              65  United-States  <=50K  \n",
       "48808             0              40  United-States  <=50K  \n",
       "48836             0              40  United-States  <=50K  \n",
       "\n",
       "[4015 rows x 14 columns]"
      ]
     },
     "execution_count": 39,
     "metadata": {},
     "output_type": "execute_result"
    }
   ],
   "source": [
    "df[(df['income']=='<=50K')&(df['marital-status']=='Never-married')&(df['native-country']=='United-States')&(df['education']=='Some-college')]"
   ]
  },
  {
   "cell_type": "code",
   "execution_count": 40,
   "id": "4110ab6e",
   "metadata": {},
   "outputs": [
    {
     "data": {
      "image/png": "[encoded data removed]",
      "text/plain": [
       "<Figure size 1515x707 with 1 Axes>"
      ]
     },
     "metadata": {
      "needs_background": "light"
     },
     "output_type": "display_data"
    }
   ],
   "source": [
    "plt.figure(figsize=(15,7),dpi=101)\n",
    "ax=sns.countplot(data=df[(df['income']=='<=50K')&(df['marital-status']=='Never-married')&\n",
    "                      (df['native-country']=='United-States')&\n",
    "                      (df['education']=='Some-college')],x='occupation',hue='gender')\n",
    "for i in ax.containers:\n",
    "    ax.bar_label(i,)\n",
    "plt.xticks(rotation = 90);"
   ]
  },
  {
   "cell_type": "code",
   "execution_count": 41,
   "id": "153c0f26",
   "metadata": {},
   "outputs": [
    {
     "data": {
      "text/plain": [
       "<matplotlib.legend.Legend at 0x17cd74ec670>"
      ]
     },
     "execution_count": 41,
     "metadata": {},
     "output_type": "execute_result"
    },
    {
     "data": {
      "image/png": "[encoded data removed]",
      "text/plain": [
       "<Figure size 1515x707 with 1 Axes>"
      ]
     },
     "metadata": {
      "needs_background": "light"
     },
     "output_type": "display_data"
    }
   ],
   "source": [
    "plt.figure(figsize=(15,7),dpi=101)\n",
    "ax=sns.countplot(data=df[(df['income']=='<=50K')&(df['marital-status']=='Never-married')&\n",
    "                      (df['native-country']=='United-States')&\n",
    "                      (df['education']=='Some-college')],x='gender',hue='occupation', palette='Paired')\n",
    "for i in ax.containers:\n",
    "    ax.bar_label(i,)\n",
    "plt.xticks(rotation = 90);\n",
    "plt.legend(bbox_to_anchor=(1.01, 1))"
   ]
  },
  {
   "cell_type": "markdown",
   "id": "123be51f",
   "metadata": {},
   "source": [
    "###### Observation:\n",
    "There are some missing values in 'occupation' feature:\n",
    "- people with missing occupation are more likely to have,\n",
    "    1. income lesser than 50k\n",
    "    2. completed their some-college\n",
    "    3. are male\n",
    "    4. are never married\n",
    "    5. & are from United-States\n",
    "    \n",
    "If gender is 'Female' it means occupation is more likely to be 'Adm-clerical', if gender is 'Male' occupation is more likly to be 'Other-service'.\n",
    "\n",
    "lets replace missing value with respect to above logic\n",
    "    \n"
   ]
  },
  {
   "cell_type": "code",
   "execution_count": 42,
   "id": "5d860737",
   "metadata": {},
   "outputs": [
    {
     "data": {
      "text/plain": [
       "Male      1536\n",
       "Female    1273\n",
       "Name: gender, dtype: int64"
      ]
     },
     "execution_count": 42,
     "metadata": {},
     "output_type": "execute_result"
    }
   ],
   "source": [
    "df[df['occupation']=='?']['gender'].value_counts()"
   ]
  },
  {
   "cell_type": "code",
   "execution_count": 43,
   "id": "cd4fc3f2",
   "metadata": {
    "scrolled": true
   },
   "outputs": [
    {
     "data": {
      "text/plain": [
       "Prof-specialty       6172\n",
       "Craft-repair         6112\n",
       "Exec-managerial      6086\n",
       "Adm-clerical         5611\n",
       "Sales                5504\n",
       "Other-service        4923\n",
       "Machine-op-inspct    3022\n",
       "?                    2809\n",
       "Transport-moving     2355\n",
       "Handlers-cleaners    2072\n",
       "Farming-fishing      1490\n",
       "Tech-support         1446\n",
       "Protective-serv       983\n",
       "Priv-house-serv       242\n",
       "Armed-Forces           15\n",
       "Name: occupation, dtype: int64"
      ]
     },
     "execution_count": 43,
     "metadata": {},
     "output_type": "execute_result"
    }
   ],
   "source": [
    "df['occupation'].value_counts()"
   ]
  },
  {
   "cell_type": "code",
   "execution_count": 44,
   "id": "737b93ae",
   "metadata": {},
   "outputs": [
    {
     "name": "stderr",
     "output_type": "stream",
     "text": [
      "C:\\Users\\pkana\\anaconda3\\lib\\site-packages\\pandas\\core\\indexing.py:1732: SettingWithCopyWarning: \n",
      "A value is trying to be set on a copy of a slice from a DataFrame\n",
      "\n",
      "See the caveats in the documentation: https://pandas.pydata.org/pandas-docs/stable/user_guide/indexing.html#returning-a-view-versus-a-copy\n",
      "  self._setitem_single_block(indexer, value, name)\n"
     ]
    }
   ],
   "source": [
    "for i in range(len(df)):\n",
    "    if df['occupation'].iloc[i] == '?':\n",
    "        if df['gender'].iloc[i] == 'Male':\n",
    "            df['occupation'].iloc[i] = 'Other-service'\n",
    "        elif df['gender'].iloc[i] == 'Female':\n",
    "            df['occupation'].iloc[i] = 'Adm-clerical'\n",
    "    else:\n",
    "        continue\n",
    "            \n",
    "            "
   ]
  },
  {
   "cell_type": "code",
   "execution_count": 45,
   "id": "b701beaf",
   "metadata": {},
   "outputs": [
    {
     "data": {
      "text/plain": [
       "Adm-clerical         6884\n",
       "Other-service        6459\n",
       "Prof-specialty       6172\n",
       "Craft-repair         6112\n",
       "Exec-managerial      6086\n",
       "Sales                5504\n",
       "Machine-op-inspct    3022\n",
       "Transport-moving     2355\n",
       "Handlers-cleaners    2072\n",
       "Farming-fishing      1490\n",
       "Tech-support         1446\n",
       "Protective-serv       983\n",
       "Priv-house-serv       242\n",
       "Armed-Forces           15\n",
       "Name: occupation, dtype: int64"
      ]
     },
     "execution_count": 45,
     "metadata": {},
     "output_type": "execute_result"
    }
   ],
   "source": [
    "df['occupation'].value_counts()"
   ]
  },
  {
   "cell_type": "markdown",
   "id": "54c8634d",
   "metadata": {},
   "source": [
    "######  Feature - race"
   ]
  },
  {
   "cell_type": "code",
   "execution_count": 46,
   "id": "e68927c3",
   "metadata": {},
   "outputs": [
    {
     "data": {
      "text/plain": [
       "White                 41762\n",
       "Black                  4685\n",
       "Asian-Pac-Islander     1519\n",
       "Amer-Indian-Eskimo      470\n",
       "Other                   406\n",
       "Name: race, dtype: int64"
      ]
     },
     "execution_count": 46,
     "metadata": {},
     "output_type": "execute_result"
    }
   ],
   "source": [
    "df['race'].value_counts()"
   ]
  },
  {
   "cell_type": "code",
   "execution_count": 47,
   "id": "afcc385b",
   "metadata": {},
   "outputs": [
    {
     "data": {
      "image/png": "[encoded data removed]",
      "text/plain": [
       "<Figure size 1515x707 with 1 Axes>"
      ]
     },
     "metadata": {
      "needs_background": "light"
     },
     "output_type": "display_data"
    }
   ],
   "source": [
    "plt.figure(figsize=(15,7),dpi=101)\n",
    "ax=sns.countplot(data=df,x='race',hue='income')\n",
    "for i in ax.containers:\n",
    "    ax.bar_label(i,)"
   ]
  },
  {
   "cell_type": "markdown",
   "id": "4e858632",
   "metadata": {},
   "source": [
    "###### Feature - gender"
   ]
  },
  {
   "cell_type": "code",
   "execution_count": 48,
   "id": "195e4795",
   "metadata": {},
   "outputs": [
    {
     "data": {
      "text/plain": [
       "Male      32650\n",
       "Female    16192\n",
       "Name: gender, dtype: int64"
      ]
     },
     "execution_count": 48,
     "metadata": {},
     "output_type": "execute_result"
    }
   ],
   "source": [
    "df['gender'].value_counts()"
   ]
  },
  {
   "cell_type": "code",
   "execution_count": 49,
   "id": "f0210069",
   "metadata": {},
   "outputs": [
    {
     "data": {
      "image/png": "[encoded data removed]",
      "text/plain": [
       "<Figure size 1515x707 with 1 Axes>"
      ]
     },
     "metadata": {
      "needs_background": "light"
     },
     "output_type": "display_data"
    }
   ],
   "source": [
    "plt.figure(figsize=(15,7),dpi=101)\n",
    "ax=sns.countplot(data=df,x='gender',hue='income')\n",
    "for i in ax.containers:\n",
    "    ax.bar_label(i,)"
   ]
  },
  {
   "cell_type": "markdown",
   "id": "288698d3",
   "metadata": {},
   "source": [
    "###### Feature - Native country"
   ]
  },
  {
   "cell_type": "code",
   "execution_count": 50,
   "id": "502a75b3",
   "metadata": {},
   "outputs": [
    {
     "data": {
      "text/plain": [
       "United-States                 43832\n",
       "Mexico                          951\n",
       "?                               857\n",
       "Philippines                     295\n",
       "Germany                         206\n",
       "Puerto-Rico                     184\n",
       "Canada                          182\n",
       "El-Salvador                     155\n",
       "India                           151\n",
       "Cuba                            138\n",
       "England                         127\n",
       "China                           122\n",
       "South                           115\n",
       "Jamaica                         106\n",
       "Italy                           105\n",
       "Dominican-Republic              103\n",
       "Japan                            92\n",
       "Guatemala                        88\n",
       "Poland                           87\n",
       "Vietnam                          86\n",
       "Columbia                         85\n",
       "Haiti                            75\n",
       "Portugal                         67\n",
       "Taiwan                           65\n",
       "Iran                             59\n",
       "Greece                           49\n",
       "Nicaragua                        49\n",
       "Peru                             46\n",
       "Ecuador                          45\n",
       "France                           38\n",
       "Ireland                          37\n",
       "Hong                             30\n",
       "Thailand                         30\n",
       "Cambodia                         28\n",
       "Trinadad&Tobago                  27\n",
       "Laos                             23\n",
       "Yugoslavia                       23\n",
       "Outlying-US(Guam-USVI-etc)       23\n",
       "Scotland                         21\n",
       "Honduras                         20\n",
       "Hungary                          19\n",
       "Holand-Netherlands                1\n",
       "Name: native-country, dtype: int64"
      ]
     },
     "execution_count": 50,
     "metadata": {},
     "output_type": "execute_result"
    }
   ],
   "source": [
    "df['native-country'].value_counts()"
   ]
  },
  {
   "cell_type": "code",
   "execution_count": 51,
   "id": "3c8217b5",
   "metadata": {},
   "outputs": [
    {
     "data": {
      "text/plain": [
       "1.7546374022357807"
      ]
     },
     "execution_count": 51,
     "metadata": {},
     "output_type": "execute_result"
    }
   ],
   "source": [
    "857/(len(df))*100"
   ]
  },
  {
   "cell_type": "markdown",
   "id": "e9fb42d3",
   "metadata": {},
   "source": [
    "There 857 (1.76%) missing values in 'native-country' lets check them,\n"
   ]
  },
  {
   "cell_type": "code",
   "execution_count": 52,
   "id": "0bcbeb02",
   "metadata": {},
   "outputs": [
    {
     "data": {
      "text/html": [
       "<div>\n",
       "<style scoped>\n",
       "    .dataframe tbody tr th:only-of-type {\n",
       "        vertical-align: middle;\n",
       "    }\n",
       "\n",
       "    .dataframe tbody tr th {\n",
       "        vertical-align: top;\n",
       "    }\n",
       "\n",
       "    .dataframe thead th {\n",
       "        text-align: right;\n",
       "    }\n",
       "</style>\n",
       "<table border=\"1\" class=\"dataframe\">\n",
       "  <thead>\n",
       "    <tr style=\"text-align: right;\">\n",
       "      <th></th>\n",
       "      <th>age</th>\n",
       "      <th>workclass</th>\n",
       "      <th>education</th>\n",
       "      <th>educational-num</th>\n",
       "      <th>marital-status</th>\n",
       "      <th>occupation</th>\n",
       "      <th>relationship</th>\n",
       "      <th>race</th>\n",
       "      <th>gender</th>\n",
       "      <th>capital-gain</th>\n",
       "      <th>capital-loss</th>\n",
       "      <th>hours-per-week</th>\n",
       "      <th>native-country</th>\n",
       "      <th>income</th>\n",
       "    </tr>\n",
       "  </thead>\n",
       "  <tbody>\n",
       "    <tr>\n",
       "      <th>19</th>\n",
       "      <td>40</td>\n",
       "      <td>Private</td>\n",
       "      <td>Doctorate</td>\n",
       "      <td>16</td>\n",
       "      <td>Married-civ-spouse</td>\n",
       "      <td>Prof-specialty</td>\n",
       "      <td>Husband</td>\n",
       "      <td>Asian-Pac-Islander</td>\n",
       "      <td>Male</td>\n",
       "      <td>0</td>\n",
       "      <td>0</td>\n",
       "      <td>45</td>\n",
       "      <td>?</td>\n",
       "      <td>&gt;50K</td>\n",
       "    </tr>\n",
       "    <tr>\n",
       "      <th>65</th>\n",
       "      <td>41</td>\n",
       "      <td>Private</td>\n",
       "      <td>Bachelors</td>\n",
       "      <td>13</td>\n",
       "      <td>Never-married</td>\n",
       "      <td>Other-service</td>\n",
       "      <td>Not-in-family</td>\n",
       "      <td>White</td>\n",
       "      <td>Female</td>\n",
       "      <td>0</td>\n",
       "      <td>0</td>\n",
       "      <td>40</td>\n",
       "      <td>?</td>\n",
       "      <td>&lt;=50K</td>\n",
       "    </tr>\n",
       "    <tr>\n",
       "      <th>83</th>\n",
       "      <td>44</td>\n",
       "      <td>Self-emp-inc</td>\n",
       "      <td>HS-grad</td>\n",
       "      <td>9</td>\n",
       "      <td>Married-civ-spouse</td>\n",
       "      <td>Craft-repair</td>\n",
       "      <td>Husband</td>\n",
       "      <td>White</td>\n",
       "      <td>Male</td>\n",
       "      <td>99999</td>\n",
       "      <td>0</td>\n",
       "      <td>50</td>\n",
       "      <td>?</td>\n",
       "      <td>&gt;50K</td>\n",
       "    </tr>\n",
       "    <tr>\n",
       "      <th>188</th>\n",
       "      <td>34</td>\n",
       "      <td>State-gov</td>\n",
       "      <td>Bachelors</td>\n",
       "      <td>13</td>\n",
       "      <td>Married-spouse-absent</td>\n",
       "      <td>Farming-fishing</td>\n",
       "      <td>Not-in-family</td>\n",
       "      <td>Black</td>\n",
       "      <td>Male</td>\n",
       "      <td>0</td>\n",
       "      <td>0</td>\n",
       "      <td>40</td>\n",
       "      <td>?</td>\n",
       "      <td>&lt;=50K</td>\n",
       "    </tr>\n",
       "    <tr>\n",
       "      <th>253</th>\n",
       "      <td>42</td>\n",
       "      <td>Federal-gov</td>\n",
       "      <td>Bachelors</td>\n",
       "      <td>13</td>\n",
       "      <td>Never-married</td>\n",
       "      <td>Prof-specialty</td>\n",
       "      <td>Not-in-family</td>\n",
       "      <td>White</td>\n",
       "      <td>Male</td>\n",
       "      <td>0</td>\n",
       "      <td>0</td>\n",
       "      <td>40</td>\n",
       "      <td>?</td>\n",
       "      <td>&lt;=50K</td>\n",
       "    </tr>\n",
       "    <tr>\n",
       "      <th>...</th>\n",
       "      <td>...</td>\n",
       "      <td>...</td>\n",
       "      <td>...</td>\n",
       "      <td>...</td>\n",
       "      <td>...</td>\n",
       "      <td>...</td>\n",
       "      <td>...</td>\n",
       "      <td>...</td>\n",
       "      <td>...</td>\n",
       "      <td>...</td>\n",
       "      <td>...</td>\n",
       "      <td>...</td>\n",
       "      <td>...</td>\n",
       "      <td>...</td>\n",
       "    </tr>\n",
       "    <tr>\n",
       "      <th>48730</th>\n",
       "      <td>44</td>\n",
       "      <td>Self-emp-inc</td>\n",
       "      <td>Masters</td>\n",
       "      <td>14</td>\n",
       "      <td>Married-civ-spouse</td>\n",
       "      <td>Sales</td>\n",
       "      <td>Husband</td>\n",
       "      <td>White</td>\n",
       "      <td>Male</td>\n",
       "      <td>0</td>\n",
       "      <td>0</td>\n",
       "      <td>50</td>\n",
       "      <td>?</td>\n",
       "      <td>&gt;50K</td>\n",
       "    </tr>\n",
       "    <tr>\n",
       "      <th>48750</th>\n",
       "      <td>58</td>\n",
       "      <td>Self-emp-inc</td>\n",
       "      <td>Doctorate</td>\n",
       "      <td>16</td>\n",
       "      <td>Never-married</td>\n",
       "      <td>Prof-specialty</td>\n",
       "      <td>Not-in-family</td>\n",
       "      <td>White</td>\n",
       "      <td>Female</td>\n",
       "      <td>0</td>\n",
       "      <td>0</td>\n",
       "      <td>99</td>\n",
       "      <td>?</td>\n",
       "      <td>&lt;=50K</td>\n",
       "    </tr>\n",
       "    <tr>\n",
       "      <th>48773</th>\n",
       "      <td>42</td>\n",
       "      <td>Self-emp-not-inc</td>\n",
       "      <td>HS-grad</td>\n",
       "      <td>9</td>\n",
       "      <td>Divorced</td>\n",
       "      <td>Sales</td>\n",
       "      <td>Own-child</td>\n",
       "      <td>White</td>\n",
       "      <td>Male</td>\n",
       "      <td>0</td>\n",
       "      <td>0</td>\n",
       "      <td>50</td>\n",
       "      <td>?</td>\n",
       "      <td>&lt;=50K</td>\n",
       "    </tr>\n",
       "    <tr>\n",
       "      <th>48791</th>\n",
       "      <td>39</td>\n",
       "      <td>Private</td>\n",
       "      <td>HS-grad</td>\n",
       "      <td>9</td>\n",
       "      <td>Married-civ-spouse</td>\n",
       "      <td>Prof-specialty</td>\n",
       "      <td>Husband</td>\n",
       "      <td>White</td>\n",
       "      <td>Male</td>\n",
       "      <td>0</td>\n",
       "      <td>0</td>\n",
       "      <td>45</td>\n",
       "      <td>?</td>\n",
       "      <td>&gt;50K</td>\n",
       "    </tr>\n",
       "    <tr>\n",
       "      <th>48806</th>\n",
       "      <td>81</td>\n",
       "      <td>Private</td>\n",
       "      <td>Assoc-voc</td>\n",
       "      <td>11</td>\n",
       "      <td>Divorced</td>\n",
       "      <td>Adm-clerical</td>\n",
       "      <td>Unmarried</td>\n",
       "      <td>White</td>\n",
       "      <td>Female</td>\n",
       "      <td>0</td>\n",
       "      <td>0</td>\n",
       "      <td>1</td>\n",
       "      <td>?</td>\n",
       "      <td>&lt;=50K</td>\n",
       "    </tr>\n",
       "  </tbody>\n",
       "</table>\n",
       "<p>857 rows × 14 columns</p>\n",
       "</div>"
      ],
      "text/plain": [
       "       age         workclass  education  educational-num  \\\n",
       "19      40           Private  Doctorate               16   \n",
       "65      41           Private  Bachelors               13   \n",
       "83      44      Self-emp-inc    HS-grad                9   \n",
       "188     34         State-gov  Bachelors               13   \n",
       "253     42       Federal-gov  Bachelors               13   \n",
       "...    ...               ...        ...              ...   \n",
       "48730   44      Self-emp-inc    Masters               14   \n",
       "48750   58      Self-emp-inc  Doctorate               16   \n",
       "48773   42  Self-emp-not-inc    HS-grad                9   \n",
       "48791   39           Private    HS-grad                9   \n",
       "48806   81           Private  Assoc-voc               11   \n",
       "\n",
       "              marital-status       occupation   relationship  \\\n",
       "19        Married-civ-spouse   Prof-specialty        Husband   \n",
       "65             Never-married    Other-service  Not-in-family   \n",
       "83        Married-civ-spouse     Craft-repair        Husband   \n",
       "188    Married-spouse-absent  Farming-fishing  Not-in-family   \n",
       "253            Never-married   Prof-specialty  Not-in-family   \n",
       "...                      ...              ...            ...   \n",
       "48730     Married-civ-spouse            Sales        Husband   \n",
       "48750          Never-married   Prof-specialty  Not-in-family   \n",
       "48773               Divorced            Sales      Own-child   \n",
       "48791     Married-civ-spouse   Prof-specialty        Husband   \n",
       "48806               Divorced     Adm-clerical      Unmarried   \n",
       "\n",
       "                     race  gender  capital-gain  capital-loss  hours-per-week  \\\n",
       "19     Asian-Pac-Islander    Male             0             0              45   \n",
       "65                  White  Female             0             0              40   \n",
       "83                  White    Male         99999             0              50   \n",
       "188                 Black    Male             0             0              40   \n",
       "253                 White    Male             0             0              40   \n",
       "...                   ...     ...           ...           ...             ...   \n",
       "48730               White    Male             0             0              50   \n",
       "48750               White  Female             0             0              99   \n",
       "48773               White    Male             0             0              50   \n",
       "48791               White    Male             0             0              45   \n",
       "48806               White  Female             0             0               1   \n",
       "\n",
       "      native-country income  \n",
       "19                 ?   >50K  \n",
       "65                 ?  <=50K  \n",
       "83                 ?   >50K  \n",
       "188                ?  <=50K  \n",
       "253                ?  <=50K  \n",
       "...              ...    ...  \n",
       "48730              ?   >50K  \n",
       "48750              ?  <=50K  \n",
       "48773              ?  <=50K  \n",
       "48791              ?   >50K  \n",
       "48806              ?  <=50K  \n",
       "\n",
       "[857 rows x 14 columns]"
      ]
     },
     "execution_count": 52,
     "metadata": {},
     "output_type": "execute_result"
    }
   ],
   "source": [
    "df[df['native-country']=='?']"
   ]
  },
  {
   "cell_type": "code",
   "execution_count": 53,
   "id": "ac430fb8",
   "metadata": {},
   "outputs": [
    {
     "data": {
      "text/plain": [
       "38.77246207701283"
      ]
     },
     "execution_count": 53,
     "metadata": {},
     "output_type": "execute_result"
    }
   ],
   "source": [
    "df[df['native-country']=='?']['age'].mean()"
   ]
  },
  {
   "cell_type": "code",
   "execution_count": 54,
   "id": "65417bb5",
   "metadata": {},
   "outputs": [
    {
     "data": {
      "text/plain": [
       "37.0"
      ]
     },
     "execution_count": 54,
     "metadata": {},
     "output_type": "execute_result"
    }
   ],
   "source": [
    "df[df['native-country']=='?']['age'].median()"
   ]
  },
  {
   "cell_type": "code",
   "execution_count": 55,
   "id": "1e91662e",
   "metadata": {},
   "outputs": [
    {
     "data": {
      "text/plain": [
       "Bachelors       210\n",
       "HS-grad         198\n",
       "Some-college    155\n",
       "Masters          78\n",
       "Doctorate        32\n",
       "Prof-school      26\n",
       "7th-8th          24\n",
       "Assoc-voc        23\n",
       "Assoc-acdm       22\n",
       "12th             22\n",
       "5th-6th          19\n",
       "10th             17\n",
       "11th             12\n",
       "9th              11\n",
       "1st-4th           7\n",
       "Preschool         1\n",
       "Name: education, dtype: int64"
      ]
     },
     "execution_count": 55,
     "metadata": {},
     "output_type": "execute_result"
    }
   ],
   "source": [
    "df[df['native-country']=='?']['education'].value_counts()"
   ]
  },
  {
   "cell_type": "code",
   "execution_count": 56,
   "id": "cd07d081",
   "metadata": {},
   "outputs": [
    {
     "data": {
      "text/plain": [
       "White                 573\n",
       "Black                 132\n",
       "Asian-Pac-Islander    128\n",
       "Other                  24\n",
       "Name: race, dtype: int64"
      ]
     },
     "execution_count": 56,
     "metadata": {},
     "output_type": "execute_result"
    }
   ],
   "source": [
    "df[df['native-country']=='?']['race'].value_counts()"
   ]
  },
  {
   "cell_type": "code",
   "execution_count": 57,
   "id": "694a2f0a",
   "metadata": {},
   "outputs": [
    {
     "data": {
      "text/plain": [
       "Male      609\n",
       "Female    248\n",
       "Name: gender, dtype: int64"
      ]
     },
     "execution_count": 57,
     "metadata": {},
     "output_type": "execute_result"
    }
   ],
   "source": [
    "df[df['native-country']=='?']['gender'].value_counts()"
   ]
  },
  {
   "cell_type": "code",
   "execution_count": 58,
   "id": "f1fb6d7a",
   "metadata": {},
   "outputs": [
    {
     "data": {
      "text/plain": [
       "United-States                 27345\n",
       "?                               473\n",
       "Mexico                          277\n",
       "Philippines                     161\n",
       "Germany                         125\n",
       "Canada                          110\n",
       "Puerto-Rico                      96\n",
       "England                          79\n",
       "South                            67\n",
       "Cuba                             64\n",
       "China                            57\n",
       "Japan                            53\n",
       "El-Salvador                      53\n",
       "Italy                            53\n",
       "Poland                           53\n",
       "Jamaica                          49\n",
       "India                            48\n",
       "Columbia                         48\n",
       "Vietnam                          42\n",
       "Dominican-Republic               35\n",
       "Iran                             30\n",
       "Haiti                            30\n",
       "Peru                             29\n",
       "Greece                           28\n",
       "Portugal                         27\n",
       "Taiwan                           27\n",
       "Guatemala                        26\n",
       "Ireland                          26\n",
       "Nicaragua                        25\n",
       "Ecuador                          22\n",
       "France                           18\n",
       "Thailand                         17\n",
       "Yugoslavia                       15\n",
       "Scotland                         14\n",
       "Cambodia                         14\n",
       "Hong                             13\n",
       "Hungary                          11\n",
       "Honduras                         10\n",
       "Outlying-US(Guam-USVI-etc)       10\n",
       "Trinadad&Tobago                   9\n",
       "Laos                              9\n",
       "Name: native-country, dtype: int64"
      ]
     },
     "execution_count": 58,
     "metadata": {},
     "output_type": "execute_result"
    }
   ],
   "source": [
    "df[(df['education']=='Bachelors') | (df['education']=='HS-grad') | (df['education']=='Some-college')\n",
    "  &(df['race']=='White')&(df['gender']=='Male') ]['native-country'].value_counts()"
   ]
  },
  {
   "cell_type": "code",
   "execution_count": 59,
   "id": "47c49eba",
   "metadata": {},
   "outputs": [
    {
     "data": {
      "text/plain": [
       "0    United-States\n",
       "dtype: object"
      ]
     },
     "execution_count": 59,
     "metadata": {},
     "output_type": "execute_result"
    }
   ],
   "source": [
    "df['native-country'].mode()"
   ]
  },
  {
   "cell_type": "code",
   "execution_count": 60,
   "id": "5996ae0f",
   "metadata": {},
   "outputs": [],
   "source": [
    "# here we can see most of missing values in 'Native-Country' are from United-States, \n",
    "#lets replace missing value with 'United -States i.e mode'\n",
    "\n",
    "df['native-country']=df['native-country'].replace('?',df['native-country'].mode()[0])"
   ]
  },
  {
   "cell_type": "code",
   "execution_count": 61,
   "id": "8d2f10ce",
   "metadata": {},
   "outputs": [
    {
     "data": {
      "text/plain": [
       "United-States                 44689\n",
       "Mexico                          951\n",
       "Philippines                     295\n",
       "Germany                         206\n",
       "Puerto-Rico                     184\n",
       "Canada                          182\n",
       "El-Salvador                     155\n",
       "India                           151\n",
       "Cuba                            138\n",
       "England                         127\n",
       "China                           122\n",
       "South                           115\n",
       "Jamaica                         106\n",
       "Italy                           105\n",
       "Dominican-Republic              103\n",
       "Japan                            92\n",
       "Guatemala                        88\n",
       "Poland                           87\n",
       "Vietnam                          86\n",
       "Columbia                         85\n",
       "Haiti                            75\n",
       "Portugal                         67\n",
       "Taiwan                           65\n",
       "Iran                             59\n",
       "Greece                           49\n",
       "Nicaragua                        49\n",
       "Peru                             46\n",
       "Ecuador                          45\n",
       "France                           38\n",
       "Ireland                          37\n",
       "Hong                             30\n",
       "Thailand                         30\n",
       "Cambodia                         28\n",
       "Trinadad&Tobago                  27\n",
       "Yugoslavia                       23\n",
       "Outlying-US(Guam-USVI-etc)       23\n",
       "Laos                             23\n",
       "Scotland                         21\n",
       "Honduras                         20\n",
       "Hungary                          19\n",
       "Holand-Netherlands                1\n",
       "Name: native-country, dtype: int64"
      ]
     },
     "execution_count": 61,
     "metadata": {},
     "output_type": "execute_result"
    }
   ],
   "source": [
    "df['native-country'].value_counts()"
   ]
  },
  {
   "cell_type": "code",
   "execution_count": 64,
   "id": "e9f7ac84",
   "metadata": {},
   "outputs": [
    {
     "name": "stdout",
     "output_type": "stream",
     "text": [
      "\n",
      "==================================================================\n",
      "                   CATEGORICAL FEATURE DETAILS                     \n",
      "==================================================================\n",
      "\n",
      "\n",
      "________________\n",
      "\n",
      "Feature: workclass\n",
      "________________\n",
      "\n",
      "\n",
      "NULLS:-\n",
      "\n",
      "    0.0 % Null values \n",
      "    (i.e Out of 48842 instaces, there are 0 Number of null values)\n",
      "\n",
      "UNIQUES:-\n",
      "\n",
      "    Total 8 unique values\n",
      "\n",
      "    Unique values are:\n",
      "     1 - Private\n",
      "     2 - Local-gov\n",
      "     3 - Self-emp-not-inc\n",
      "     4 - Federal-gov\n",
      "     5 - State-gov\n",
      "     6 - Self-emp-inc\n",
      "     7 - Without-pay\n",
      "     8 - Never-worked\n",
      "\n",
      "    Unique values counts:\n",
      "        \n",
      "Private             36705\n",
      "Self-emp-not-inc     3862\n",
      "Local-gov            3136\n",
      "State-gov            1981\n",
      "Self-emp-inc         1695\n",
      "Federal-gov          1432\n",
      "Without-pay            21\n",
      "Never-worked           10\n",
      "Name: workclass, dtype: int64\n",
      "\n",
      "\n",
      "________________\n",
      "\n",
      "Feature: education\n",
      "________________\n",
      "\n",
      "\n",
      "NULLS:-\n",
      "\n",
      "    0.0 % Null values \n",
      "    (i.e Out of 48842 instaces, there are 0 Number of null values)\n",
      "\n",
      "UNIQUES:-\n",
      "\n",
      "    Total 16 unique values\n",
      "\n",
      "    Unique values are:\n",
      "     1 - 11th\n",
      "     2 - HS-grad\n",
      "     3 - Assoc-acdm\n",
      "     4 - Some-college\n",
      "     5 - 10th\n",
      "     6 - Prof-school\n",
      "     7 - 7th-8th\n",
      "     8 - Bachelors\n",
      "     9 - Masters\n",
      "     10 - Doctorate\n",
      "     11 - 5th-6th\n",
      "     12 - Assoc-voc\n",
      "     13 - 9th\n",
      "     14 - 12th\n",
      "     15 - 1st-4th\n",
      "     16 - Preschool\n",
      "\n",
      "    Unique values counts:\n",
      "        \n",
      "HS-grad         15784\n",
      "Some-college    10878\n",
      "Bachelors        8025\n",
      "Masters          2657\n",
      "Assoc-voc        2061\n",
      "11th             1812\n",
      "Assoc-acdm       1601\n",
      "10th             1389\n",
      "7th-8th           955\n",
      "Prof-school       834\n",
      "9th               756\n",
      "12th              657\n",
      "Doctorate         594\n",
      "5th-6th           509\n",
      "1st-4th           247\n",
      "Preschool          83\n",
      "Name: education, dtype: int64\n",
      "\n",
      "\n",
      "________________\n",
      "\n",
      "Feature: marital-status\n",
      "________________\n",
      "\n",
      "\n",
      "NULLS:-\n",
      "\n",
      "    0.0 % Null values \n",
      "    (i.e Out of 48842 instaces, there are 0 Number of null values)\n",
      "\n",
      "UNIQUES:-\n",
      "\n",
      "    Total 7 unique values\n",
      "\n",
      "    Unique values are:\n",
      "     1 - Never-married\n",
      "     2 - Married-civ-spouse\n",
      "     3 - Widowed\n",
      "     4 - Divorced\n",
      "     5 - Separated\n",
      "     6 - Married-spouse-absent\n",
      "     7 - Married-AF-spouse\n",
      "\n",
      "    Unique values counts:\n",
      "        \n",
      "Married-civ-spouse       22379\n",
      "Never-married            16117\n",
      "Divorced                  6633\n",
      "Separated                 1530\n",
      "Widowed                   1518\n",
      "Married-spouse-absent      628\n",
      "Married-AF-spouse           37\n",
      "Name: marital-status, dtype: int64\n",
      "\n",
      "\n",
      "________________\n",
      "\n",
      "Feature: occupation\n",
      "________________\n",
      "\n",
      "\n",
      "NULLS:-\n",
      "\n",
      "    0.0 % Null values \n",
      "    (i.e Out of 48842 instaces, there are 0 Number of null values)\n",
      "\n",
      "UNIQUES:-\n",
      "\n",
      "    Total 14 unique values\n",
      "\n",
      "    Unique values are:\n",
      "     1 - Machine-op-inspct\n",
      "     2 - Farming-fishing\n",
      "     3 - Protective-serv\n",
      "     4 - Adm-clerical\n",
      "     5 - Other-service\n",
      "     6 - Prof-specialty\n",
      "     7 - Craft-repair\n",
      "     8 - Exec-managerial\n",
      "     9 - Tech-support\n",
      "     10 - Sales\n",
      "     11 - Priv-house-serv\n",
      "     12 - Transport-moving\n",
      "     13 - Handlers-cleaners\n",
      "     14 - Armed-Forces\n",
      "\n",
      "    Unique values counts:\n",
      "        \n",
      "Adm-clerical         6884\n",
      "Other-service        6459\n",
      "Prof-specialty       6172\n",
      "Craft-repair         6112\n",
      "Exec-managerial      6086\n",
      "Sales                5504\n",
      "Machine-op-inspct    3022\n",
      "Transport-moving     2355\n",
      "Handlers-cleaners    2072\n",
      "Farming-fishing      1490\n",
      "Tech-support         1446\n",
      "Protective-serv       983\n",
      "Priv-house-serv       242\n",
      "Armed-Forces           15\n",
      "Name: occupation, dtype: int64\n",
      "\n",
      "\n",
      "________________\n",
      "\n",
      "Feature: relationship\n",
      "________________\n",
      "\n",
      "\n",
      "NULLS:-\n",
      "\n",
      "    0.0 % Null values \n",
      "    (i.e Out of 48842 instaces, there are 0 Number of null values)\n",
      "\n",
      "UNIQUES:-\n",
      "\n",
      "    Total 6 unique values\n",
      "\n",
      "    Unique values are:\n",
      "     1 - Own-child\n",
      "     2 - Husband\n",
      "     3 - Not-in-family\n",
      "     4 - Unmarried\n",
      "     5 - Wife\n",
      "     6 - Other-relative\n",
      "\n",
      "    Unique values counts:\n",
      "        \n",
      "Husband           19716\n",
      "Not-in-family     12583\n",
      "Own-child          7581\n",
      "Unmarried          5125\n",
      "Wife               2331\n",
      "Other-relative     1506\n",
      "Name: relationship, dtype: int64\n",
      "\n",
      "\n",
      "________________\n",
      "\n",
      "Feature: race\n",
      "________________\n",
      "\n",
      "\n",
      "NULLS:-\n",
      "\n",
      "    0.0 % Null values \n",
      "    (i.e Out of 48842 instaces, there are 0 Number of null values)\n",
      "\n",
      "UNIQUES:-\n",
      "\n",
      "    Total 5 unique values\n",
      "\n",
      "    Unique values are:\n",
      "     1 - Black\n",
      "     2 - White\n",
      "     3 - Asian-Pac-Islander\n",
      "     4 - Other\n",
      "     5 - Amer-Indian-Eskimo\n",
      "\n",
      "    Unique values counts:\n",
      "        \n",
      "White                 41762\n",
      "Black                  4685\n",
      "Asian-Pac-Islander     1519\n",
      "Amer-Indian-Eskimo      470\n",
      "Other                   406\n",
      "Name: race, dtype: int64\n",
      "\n",
      "\n",
      "________________\n",
      "\n",
      "Feature: gender\n",
      "________________\n",
      "\n",
      "\n",
      "NULLS:-\n",
      "\n",
      "    0.0 % Null values \n",
      "    (i.e Out of 48842 instaces, there are 0 Number of null values)\n",
      "\n",
      "UNIQUES:-\n",
      "\n",
      "    Total 2 unique values\n",
      "\n",
      "    Unique values are:\n",
      "     1 - Male\n",
      "     2 - Female\n",
      "\n",
      "    Unique values counts:\n",
      "        \n",
      "Male      32650\n",
      "Female    16192\n",
      "Name: gender, dtype: int64\n",
      "\n",
      "\n",
      "________________\n",
      "\n",
      "Feature: native-country\n",
      "________________\n",
      "\n",
      "\n",
      "NULLS:-\n",
      "\n",
      "    0.0 % Null values \n",
      "    (i.e Out of 48842 instaces, there are 0 Number of null values)\n",
      "\n",
      "UNIQUES:-\n",
      "\n",
      "    Total 41 unique values\n",
      "\n",
      "    Unique values are:\n",
      "     1 - United-States\n",
      "     2 - Peru\n",
      "     3 - Guatemala\n",
      "     4 - Mexico\n",
      "     5 - Dominican-Republic\n",
      "     6 - Ireland\n",
      "     7 - Germany\n",
      "     8 - Philippines\n",
      "     9 - Thailand\n",
      "     10 - Haiti\n",
      "     11 - El-Salvador\n",
      "     12 - Puerto-Rico\n",
      "     13 - Vietnam\n",
      "     14 - South\n",
      "     15 - Columbia\n",
      "     16 - Japan\n",
      "     17 - India\n",
      "     18 - Cambodia\n",
      "     19 - Poland\n",
      "     20 - Laos\n",
      "     21 - England\n",
      "     22 - Cuba\n",
      "     23 - Taiwan\n",
      "     24 - Italy\n",
      "     25 - Canada\n",
      "     26 - Portugal\n",
      "     27 - China\n",
      "     28 - Nicaragua\n",
      "     29 - Honduras\n",
      "     30 - Iran\n",
      "     31 - Scotland\n",
      "     32 - Jamaica\n",
      "     33 - Ecuador\n",
      "     34 - Yugoslavia\n",
      "     35 - Hungary\n",
      "     36 - Hong\n",
      "     37 - Greece\n",
      "     38 - Trinadad&Tobago\n",
      "     39 - Outlying-US(Guam-USVI-etc)\n",
      "     40 - France\n",
      "     41 - Holand-Netherlands\n",
      "\n",
      "    Unique values counts:\n",
      "        \n",
      "United-States                 44689\n",
      "Mexico                          951\n",
      "Philippines                     295\n",
      "Germany                         206\n",
      "Puerto-Rico                     184\n",
      "Canada                          182\n",
      "El-Salvador                     155\n",
      "India                           151\n",
      "Cuba                            138\n",
      "England                         127\n",
      "China                           122\n",
      "South                           115\n",
      "Jamaica                         106\n",
      "Italy                           105\n",
      "Dominican-Republic              103\n",
      "Japan                            92\n",
      "Guatemala                        88\n",
      "Poland                           87\n",
      "Vietnam                          86\n",
      "Columbia                         85\n",
      "Haiti                            75\n",
      "Portugal                         67\n",
      "Taiwan                           65\n",
      "Iran                             59\n",
      "Greece                           49\n",
      "Nicaragua                        49\n",
      "Peru                             46\n",
      "Ecuador                          45\n",
      "France                           38\n",
      "Ireland                          37\n",
      "Hong                             30\n",
      "Thailand                         30\n",
      "Cambodia                         28\n",
      "Trinadad&Tobago                  27\n",
      "Yugoslavia                       23\n",
      "Outlying-US(Guam-USVI-etc)       23\n",
      "Laos                             23\n",
      "Scotland                         21\n",
      "Honduras                         20\n",
      "Hungary                          19\n",
      "Holand-Netherlands                1\n",
      "Name: native-country, dtype: int64\n",
      "\n",
      "\n",
      "________________\n",
      "\n",
      "Feature: income\n",
      "________________\n",
      "\n",
      "\n",
      "NULLS:-\n",
      "\n",
      "    0.0 % Null values \n",
      "    (i.e Out of 48842 instaces, there are 0 Number of null values)\n",
      "\n",
      "UNIQUES:-\n",
      "\n",
      "    Total 2 unique values\n",
      "\n",
      "    Unique values are:\n",
      "     1 - <=50K\n",
      "     2 - >50K\n",
      "\n",
      "    Unique values counts:\n",
      "        \n",
      "<=50K    37155\n",
      ">50K     11687\n",
      "Name: income, dtype: int64\n"
     ]
    }
   ],
   "source": [
    "#lets cross check missing values,\n",
    "feature_details.categorical_feature_details(df_cat)"
   ]
  },
  {
   "cell_type": "code",
   "execution_count": 65,
   "id": "8ebc419d",
   "metadata": {},
   "outputs": [
    {
     "name": "stdout",
     "output_type": "stream",
     "text": [
      "\n",
      "==================================================================\n",
      "                   NUMERICAL FEATURE DETAILS                     \n",
      "==================================================================\n",
      "\n",
      "\n",
      "________________\n",
      "\n",
      "Feature: age\n",
      "________________\n",
      "\n",
      "Minimum age is 17\n",
      "Maximum age is 90\n",
      "Average age is 38.64\n",
      "\n",
      "\n",
      "NULLS:-\n",
      "\n",
      "    0.0 % Null values \n",
      "    (i.e Out of 48842 instaces, there are 0 Number of null values)\n",
      "\n",
      "UNIQUES:-\n",
      "\n",
      "    Total 74 unique values\n",
      "\n",
      "OUTLIERS:-\n",
      "\n",
      "    25th Percentile is:  28.0\n",
      "    75th Percentile is:  48.0\n",
      "    Inter Quartile range is:  20.0\n",
      "    Upper limit is:  78.0\n",
      "    Lower limit is:  -2.0\n",
      "\n",
      "\n",
      "    >>> HIGHER OUTLIERS: 216 \n",
      "    >>> LOWER OUTLIERS: 0 \n",
      "\n",
      "\n",
      "\n",
      "\n",
      "\n",
      "________________\n",
      "\n",
      "Feature: educational-num\n",
      "________________\n",
      "\n",
      "Minimum educational-num is 1\n",
      "Maximum educational-num is 16\n",
      "Average educational-num is 10.08\n",
      "\n",
      "\n",
      "NULLS:-\n",
      "\n",
      "    0.0 % Null values \n",
      "    (i.e Out of 48842 instaces, there are 0 Number of null values)\n",
      "\n",
      "UNIQUES:-\n",
      "\n",
      "    Total 16 unique values\n",
      "\n",
      "OUTLIERS:-\n",
      "\n",
      "    25th Percentile is:  9.0\n",
      "    75th Percentile is:  12.0\n",
      "    Inter Quartile range is:  3.0\n",
      "    Upper limit is:  16.5\n",
      "    Lower limit is:  4.5\n",
      "\n",
      "\n",
      "    >>> HIGHER OUTLIERS: 0 \n",
      "    >>> LOWER OUTLIERS: 1794 \n",
      "\n",
      "\n",
      "\n",
      "\n",
      "\n",
      "________________\n",
      "\n",
      "Feature: capital-gain\n",
      "________________\n",
      "\n",
      "Minimum capital-gain is 0\n",
      "Maximum capital-gain is 99999\n",
      "Average capital-gain is 1079.07\n",
      "\n",
      "\n",
      "NULLS:-\n",
      "\n",
      "    0.0 % Null values \n",
      "    (i.e Out of 48842 instaces, there are 0 Number of null values)\n",
      "\n",
      "UNIQUES:-\n",
      "\n",
      "    Total 123 unique values\n",
      "\n",
      "OUTLIERS:-\n",
      "\n",
      "    25th Percentile is:  0.0\n",
      "    75th Percentile is:  0.0\n",
      "    Inter Quartile range is:  0.0\n",
      "    Upper limit is:  0.0\n",
      "    Lower limit is:  0.0\n",
      "\n",
      "\n",
      "    >>> HIGHER OUTLIERS: 4035 \n",
      "    >>> LOWER OUTLIERS: 0 \n",
      "\n",
      "\n",
      "\n",
      "\n",
      "\n",
      "________________\n",
      "\n",
      "Feature: capital-loss\n",
      "________________\n",
      "\n",
      "Minimum capital-loss is 0\n",
      "Maximum capital-loss is 4356\n",
      "Average capital-loss is 87.5\n",
      "\n",
      "\n",
      "NULLS:-\n",
      "\n",
      "    0.0 % Null values \n",
      "    (i.e Out of 48842 instaces, there are 0 Number of null values)\n",
      "\n",
      "UNIQUES:-\n",
      "\n",
      "    Total 99 unique values\n",
      "\n",
      "OUTLIERS:-\n",
      "\n",
      "    25th Percentile is:  0.0\n",
      "    75th Percentile is:  0.0\n",
      "    Inter Quartile range is:  0.0\n",
      "    Upper limit is:  0.0\n",
      "    Lower limit is:  0.0\n",
      "\n",
      "\n",
      "    >>> HIGHER OUTLIERS: 2282 \n",
      "    >>> LOWER OUTLIERS: 0 \n",
      "\n",
      "\n",
      "\n",
      "\n",
      "\n",
      "________________\n",
      "\n",
      "Feature: hours-per-week\n",
      "________________\n",
      "\n",
      "Minimum hours-per-week is 1\n",
      "Maximum hours-per-week is 99\n",
      "Average hours-per-week is 40.42\n",
      "\n",
      "\n",
      "NULLS:-\n",
      "\n",
      "    0.0 % Null values \n",
      "    (i.e Out of 48842 instaces, there are 0 Number of null values)\n",
      "\n",
      "UNIQUES:-\n",
      "\n",
      "    Total 96 unique values\n",
      "\n",
      "OUTLIERS:-\n",
      "\n",
      "    25th Percentile is:  40.0\n",
      "    75th Percentile is:  45.0\n",
      "    Inter Quartile range is:  5.0\n",
      "    Upper limit is:  52.5\n",
      "    Lower limit is:  32.5\n",
      "\n",
      "\n",
      "    >>> HIGHER OUTLIERS: 5210 \n",
      "    >>> LOWER OUTLIERS: 8286 \n",
      "\n",
      "\n",
      "\n"
     ]
    }
   ],
   "source": [
    "#Categorical Data looks clean now,\n",
    "#lets check numerical data\n",
    "feature_details.numerical_feature_details(df_num)"
   ]
  },
  {
   "cell_type": "code",
   "execution_count": null,
   "id": "efef888b",
   "metadata": {},
   "outputs": [],
   "source": []
  },
  {
   "cell_type": "code",
   "execution_count": 153,
   "id": "436a6e91",
   "metadata": {},
   "outputs": [
    {
     "data": {
      "text/plain": [
       "count    48842.000000\n",
       "mean      1079.067626\n",
       "std       7452.019058\n",
       "min          0.000000\n",
       "25%          0.000000\n",
       "50%          0.000000\n",
       "75%          0.000000\n",
       "max      99999.000000\n",
       "Name: capital-gain, dtype: float64"
      ]
     },
     "execution_count": 153,
     "metadata": {},
     "output_type": "execute_result"
    }
   ],
   "source": [
    "df['capital-gain'].describe()"
   ]
  },
  {
   "cell_type": "code",
   "execution_count": 154,
   "id": "05cfe03b",
   "metadata": {},
   "outputs": [
    {
     "data": {
      "text/plain": [
       "0.0"
      ]
     },
     "execution_count": 154,
     "metadata": {},
     "output_type": "execute_result"
    }
   ],
   "source": [
    "df['capital-gain'].median()"
   ]
  },
  {
   "cell_type": "code",
   "execution_count": 66,
   "id": "8891d71a",
   "metadata": {
    "scrolled": true
   },
   "outputs": [
    {
     "data": {
      "text/plain": [
       "array([    0,  7688,  3103,  6418,  7298,  3908, 14084,  5178, 15024,\n",
       "       99999,  2597,  2907,  4650,  6497,  1055,  5013, 27828,  4934,\n",
       "        4064,  3674,  2174, 10605,  3418,   114,  2580,  3411,  4508,\n",
       "        4386,  8614, 13550,  6849,  2463,  3137,  2885,  2964,  1471,\n",
       "       10566,  2354,  1424,  1455,  3325,  4416, 25236,   594,  2105,\n",
       "        4787,  2829,   401,  4865,  1264,  1506, 10520,  3464,  2653,\n",
       "       20051,  4101,  1797,  2407,  3471,  1086,  1848, 14344,  1151,\n",
       "        2993,  2290, 15020,  9386,  2202,  3818,  2176,  5455, 11678,\n",
       "        7978,  7262,  6514, 41310,  3456,  7430,  2414,  2062, 34095,\n",
       "        1831,  6723,  5060, 15831,  2977,  2346,  3273,  2329,  9562,\n",
       "        2635,  4931,  1731,  6097,   914,  7896,  5556,  1409,  3781,\n",
       "        3942,  2538,  3887, 25124,  7443,  5721,  1173,  4687,  6612,\n",
       "        6767,  2961,   991,  2036,  2936,  2050,  1111,  2228, 22040,\n",
       "        3432,  6360,  2009,  1639, 18481,  2387], dtype=int64)"
      ]
     },
     "execution_count": 66,
     "metadata": {},
     "output_type": "execute_result"
    }
   ],
   "source": [
    "df['capital-gain'].unique()"
   ]
  },
  {
   "cell_type": "code",
   "execution_count": 67,
   "id": "bf40a83a",
   "metadata": {},
   "outputs": [
    {
     "data": {
      "text/plain": [
       "array([40, 50, 30, 32, 10, 39, 35, 48, 25, 20, 45, 47,  6, 43, 90, 54, 60,\n",
       "       38, 36, 18, 24, 44, 56, 28, 16, 41, 22, 55, 14, 33, 37,  8, 12, 70,\n",
       "       15, 75, 52, 84, 42, 80, 68, 99, 65,  5, 17, 72, 53, 29, 96, 21, 46,\n",
       "        3,  1, 23, 49, 67, 76,  7,  2, 58, 26, 34,  4, 51, 78, 63, 31, 92,\n",
       "       77, 27, 85, 13, 19, 98, 62, 66, 57, 11, 86, 59,  9, 64, 73, 61, 88,\n",
       "       79, 89, 74, 69, 87, 97, 94, 82, 91, 81, 95], dtype=int64)"
      ]
     },
     "execution_count": 67,
     "metadata": {},
     "output_type": "execute_result"
    }
   ],
   "source": [
    "df['hours-per-week'].unique()"
   ]
  },
  {
   "cell_type": "code",
   "execution_count": 68,
   "id": "1cd2ccbe",
   "metadata": {},
   "outputs": [
    {
     "data": {
      "text/plain": [
       "<AxesSubplot:xlabel='age'>"
      ]
     },
     "execution_count": 68,
     "metadata": {},
     "output_type": "execute_result"
    },
    {
     "data": {
      "image/png": "[encoded data removed]",
      "text/plain": [
       "<Figure size 432x288 with 1 Axes>"
      ]
     },
     "metadata": {
      "needs_background": "light"
     },
     "output_type": "display_data"
    }
   ],
   "source": [
    "sns.boxplot(data=df,x='age')"
   ]
  },
  {
   "cell_type": "code",
   "execution_count": 69,
   "id": "3516befc",
   "metadata": {},
   "outputs": [
    {
     "data": {
      "text/plain": [
       "<AxesSubplot:xlabel='educational-num'>"
      ]
     },
     "execution_count": 69,
     "metadata": {},
     "output_type": "execute_result"
    },
    {
     "data": {
      "image/png": "[encoded data removed]",
      "text/plain": [
       "<Figure size 432x288 with 1 Axes>"
      ]
     },
     "metadata": {
      "needs_background": "light"
     },
     "output_type": "display_data"
    }
   ],
   "source": [
    "sns.boxplot(data=df,x='educational-num')"
   ]
  },
  {
   "cell_type": "code",
   "execution_count": 70,
   "id": "5c5ca25f",
   "metadata": {},
   "outputs": [
    {
     "data": {
      "text/plain": [
       "<AxesSubplot:xlabel='capital-gain'>"
      ]
     },
     "execution_count": 70,
     "metadata": {},
     "output_type": "execute_result"
    },
    {
     "data": {
      "image/png": "[encoded data removed]",
      "text/plain": [
       "<Figure size 432x288 with 1 Axes>"
      ]
     },
     "metadata": {
      "needs_background": "light"
     },
     "output_type": "display_data"
    }
   ],
   "source": [
    "sns.boxplot(data=df,x='capital-gain')"
   ]
  },
  {
   "cell_type": "code",
   "execution_count": 71,
   "id": "15ec8d6e",
   "metadata": {},
   "outputs": [
    {
     "data": {
      "text/plain": [
       "<AxesSubplot:xlabel='capital-loss'>"
      ]
     },
     "execution_count": 71,
     "metadata": {},
     "output_type": "execute_result"
    },
    {
     "data": {
      "image/png": "[encoded data removed]",
      "text/plain": [
       "<Figure size 432x288 with 1 Axes>"
      ]
     },
     "metadata": {
      "needs_background": "light"
     },
     "output_type": "display_data"
    }
   ],
   "source": [
    "sns.boxplot(data=df,x='capital-loss')"
   ]
  },
  {
   "cell_type": "code",
   "execution_count": 72,
   "id": "87ee1f8b",
   "metadata": {},
   "outputs": [
    {
     "data": {
      "text/plain": [
       "<AxesSubplot:xlabel='hours-per-week'>"
      ]
     },
     "execution_count": 72,
     "metadata": {},
     "output_type": "execute_result"
    },
    {
     "data": {
      "image/png": "[encoded data removed]",
      "text/plain": [
       "<Figure size 432x288 with 1 Axes>"
      ]
     },
     "metadata": {
      "needs_background": "light"
     },
     "output_type": "display_data"
    }
   ],
   "source": [
    "sns.boxplot(data=df,x='hours-per-week')"
   ]
  },
  {
   "cell_type": "code",
   "execution_count": 73,
   "id": "fe467a37",
   "metadata": {},
   "outputs": [
    {
     "data": {
      "text/plain": [
       "<AxesSubplot:xlabel='capital-gain', ylabel='hours-per-week'>"
      ]
     },
     "execution_count": 73,
     "metadata": {},
     "output_type": "execute_result"
    },
    {
     "data": {
      "image/png": "[encoded data removed]",
      "text/plain": [
       "<Figure size 432x288 with 1 Axes>"
      ]
     },
     "metadata": {
      "needs_background": "light"
     },
     "output_type": "display_data"
    }
   ],
   "source": [
    "sns.scatterplot(data=df,x='capital-gain',y='hours-per-week')"
   ]
  },
  {
   "cell_type": "code",
   "execution_count": 74,
   "id": "e41ba2d5",
   "metadata": {},
   "outputs": [
    {
     "data": {
      "text/plain": [
       "<AxesSubplot:xlabel='capital-gain', ylabel='age'>"
      ]
     },
     "execution_count": 74,
     "metadata": {},
     "output_type": "execute_result"
    },
    {
     "data": {
      "image/png": "[encoded data removed]",
      "text/plain": [
       "<Figure size 432x288 with 1 Axes>"
      ]
     },
     "metadata": {
      "needs_background": "light"
     },
     "output_type": "display_data"
    }
   ],
   "source": [
    "sns.scatterplot(data=df,x='capital-gain',y='age')"
   ]
  },
  {
   "cell_type": "code",
   "execution_count": 75,
   "id": "d6b9fcd1",
   "metadata": {},
   "outputs": [
    {
     "data": {
      "text/html": [
       "<div>\n",
       "<style scoped>\n",
       "    .dataframe tbody tr th:only-of-type {\n",
       "        vertical-align: middle;\n",
       "    }\n",
       "\n",
       "    .dataframe tbody tr th {\n",
       "        vertical-align: top;\n",
       "    }\n",
       "\n",
       "    .dataframe thead th {\n",
       "        text-align: right;\n",
       "    }\n",
       "</style>\n",
       "<table border=\"1\" class=\"dataframe\">\n",
       "  <thead>\n",
       "    <tr style=\"text-align: right;\">\n",
       "      <th></th>\n",
       "      <th>age</th>\n",
       "      <th>workclass</th>\n",
       "      <th>education</th>\n",
       "      <th>educational-num</th>\n",
       "      <th>marital-status</th>\n",
       "      <th>occupation</th>\n",
       "      <th>relationship</th>\n",
       "      <th>race</th>\n",
       "      <th>gender</th>\n",
       "      <th>capital-gain</th>\n",
       "      <th>capital-loss</th>\n",
       "      <th>hours-per-week</th>\n",
       "      <th>native-country</th>\n",
       "      <th>income</th>\n",
       "    </tr>\n",
       "  </thead>\n",
       "  <tbody>\n",
       "    <tr>\n",
       "      <th>83</th>\n",
       "      <td>44</td>\n",
       "      <td>Self-emp-inc</td>\n",
       "      <td>HS-grad</td>\n",
       "      <td>9</td>\n",
       "      <td>Married-civ-spouse</td>\n",
       "      <td>Craft-repair</td>\n",
       "      <td>Husband</td>\n",
       "      <td>White</td>\n",
       "      <td>Male</td>\n",
       "      <td>99999</td>\n",
       "      <td>0</td>\n",
       "      <td>50</td>\n",
       "      <td>United-States</td>\n",
       "      <td>&gt;50K</td>\n",
       "    </tr>\n",
       "    <tr>\n",
       "      <th>346</th>\n",
       "      <td>39</td>\n",
       "      <td>Private</td>\n",
       "      <td>HS-grad</td>\n",
       "      <td>9</td>\n",
       "      <td>Divorced</td>\n",
       "      <td>Exec-managerial</td>\n",
       "      <td>Unmarried</td>\n",
       "      <td>Black</td>\n",
       "      <td>Female</td>\n",
       "      <td>99999</td>\n",
       "      <td>0</td>\n",
       "      <td>40</td>\n",
       "      <td>United-States</td>\n",
       "      <td>&gt;50K</td>\n",
       "    </tr>\n",
       "    <tr>\n",
       "      <th>357</th>\n",
       "      <td>50</td>\n",
       "      <td>Self-emp-not-inc</td>\n",
       "      <td>Prof-school</td>\n",
       "      <td>15</td>\n",
       "      <td>Married-civ-spouse</td>\n",
       "      <td>Prof-specialty</td>\n",
       "      <td>Husband</td>\n",
       "      <td>White</td>\n",
       "      <td>Male</td>\n",
       "      <td>99999</td>\n",
       "      <td>0</td>\n",
       "      <td>80</td>\n",
       "      <td>United-States</td>\n",
       "      <td>&gt;50K</td>\n",
       "    </tr>\n",
       "    <tr>\n",
       "      <th>418</th>\n",
       "      <td>54</td>\n",
       "      <td>Self-emp-inc</td>\n",
       "      <td>Prof-school</td>\n",
       "      <td>15</td>\n",
       "      <td>Married-civ-spouse</td>\n",
       "      <td>Prof-specialty</td>\n",
       "      <td>Husband</td>\n",
       "      <td>White</td>\n",
       "      <td>Male</td>\n",
       "      <td>99999</td>\n",
       "      <td>0</td>\n",
       "      <td>40</td>\n",
       "      <td>United-States</td>\n",
       "      <td>&gt;50K</td>\n",
       "    </tr>\n",
       "    <tr>\n",
       "      <th>692</th>\n",
       "      <td>41</td>\n",
       "      <td>Private</td>\n",
       "      <td>Masters</td>\n",
       "      <td>14</td>\n",
       "      <td>Married-civ-spouse</td>\n",
       "      <td>Exec-managerial</td>\n",
       "      <td>Husband</td>\n",
       "      <td>White</td>\n",
       "      <td>Male</td>\n",
       "      <td>99999</td>\n",
       "      <td>0</td>\n",
       "      <td>55</td>\n",
       "      <td>United-States</td>\n",
       "      <td>&gt;50K</td>\n",
       "    </tr>\n",
       "    <tr>\n",
       "      <th>...</th>\n",
       "      <td>...</td>\n",
       "      <td>...</td>\n",
       "      <td>...</td>\n",
       "      <td>...</td>\n",
       "      <td>...</td>\n",
       "      <td>...</td>\n",
       "      <td>...</td>\n",
       "      <td>...</td>\n",
       "      <td>...</td>\n",
       "      <td>...</td>\n",
       "      <td>...</td>\n",
       "      <td>...</td>\n",
       "      <td>...</td>\n",
       "      <td>...</td>\n",
       "    </tr>\n",
       "    <tr>\n",
       "      <th>48109</th>\n",
       "      <td>47</td>\n",
       "      <td>Private</td>\n",
       "      <td>Masters</td>\n",
       "      <td>14</td>\n",
       "      <td>Married-civ-spouse</td>\n",
       "      <td>Exec-managerial</td>\n",
       "      <td>Husband</td>\n",
       "      <td>White</td>\n",
       "      <td>Male</td>\n",
       "      <td>99999</td>\n",
       "      <td>0</td>\n",
       "      <td>55</td>\n",
       "      <td>United-States</td>\n",
       "      <td>&gt;50K</td>\n",
       "    </tr>\n",
       "    <tr>\n",
       "      <th>48253</th>\n",
       "      <td>43</td>\n",
       "      <td>Self-emp-inc</td>\n",
       "      <td>Prof-school</td>\n",
       "      <td>15</td>\n",
       "      <td>Married-civ-spouse</td>\n",
       "      <td>Exec-managerial</td>\n",
       "      <td>Husband</td>\n",
       "      <td>White</td>\n",
       "      <td>Male</td>\n",
       "      <td>99999</td>\n",
       "      <td>0</td>\n",
       "      <td>40</td>\n",
       "      <td>United-States</td>\n",
       "      <td>&gt;50K</td>\n",
       "    </tr>\n",
       "    <tr>\n",
       "      <th>48371</th>\n",
       "      <td>66</td>\n",
       "      <td>Private</td>\n",
       "      <td>Bachelors</td>\n",
       "      <td>13</td>\n",
       "      <td>Married-civ-spouse</td>\n",
       "      <td>Exec-managerial</td>\n",
       "      <td>Husband</td>\n",
       "      <td>White</td>\n",
       "      <td>Male</td>\n",
       "      <td>99999</td>\n",
       "      <td>0</td>\n",
       "      <td>55</td>\n",
       "      <td>United-States</td>\n",
       "      <td>&gt;50K</td>\n",
       "    </tr>\n",
       "    <tr>\n",
       "      <th>48519</th>\n",
       "      <td>47</td>\n",
       "      <td>Private</td>\n",
       "      <td>Prof-school</td>\n",
       "      <td>15</td>\n",
       "      <td>Married-civ-spouse</td>\n",
       "      <td>Exec-managerial</td>\n",
       "      <td>Husband</td>\n",
       "      <td>White</td>\n",
       "      <td>Male</td>\n",
       "      <td>99999</td>\n",
       "      <td>0</td>\n",
       "      <td>40</td>\n",
       "      <td>United-States</td>\n",
       "      <td>&gt;50K</td>\n",
       "    </tr>\n",
       "    <tr>\n",
       "      <th>48799</th>\n",
       "      <td>57</td>\n",
       "      <td>Local-gov</td>\n",
       "      <td>HS-grad</td>\n",
       "      <td>9</td>\n",
       "      <td>Married-civ-spouse</td>\n",
       "      <td>Craft-repair</td>\n",
       "      <td>Husband</td>\n",
       "      <td>White</td>\n",
       "      <td>Male</td>\n",
       "      <td>99999</td>\n",
       "      <td>0</td>\n",
       "      <td>40</td>\n",
       "      <td>United-States</td>\n",
       "      <td>&gt;50K</td>\n",
       "    </tr>\n",
       "  </tbody>\n",
       "</table>\n",
       "<p>244 rows × 14 columns</p>\n",
       "</div>"
      ],
      "text/plain": [
       "       age         workclass    education  educational-num  \\\n",
       "83      44      Self-emp-inc      HS-grad                9   \n",
       "346     39           Private      HS-grad                9   \n",
       "357     50  Self-emp-not-inc  Prof-school               15   \n",
       "418     54      Self-emp-inc  Prof-school               15   \n",
       "692     41           Private      Masters               14   \n",
       "...    ...               ...          ...              ...   \n",
       "48109   47           Private      Masters               14   \n",
       "48253   43      Self-emp-inc  Prof-school               15   \n",
       "48371   66           Private    Bachelors               13   \n",
       "48519   47           Private  Prof-school               15   \n",
       "48799   57         Local-gov      HS-grad                9   \n",
       "\n",
       "           marital-status       occupation relationship   race  gender  \\\n",
       "83     Married-civ-spouse     Craft-repair      Husband  White    Male   \n",
       "346              Divorced  Exec-managerial    Unmarried  Black  Female   \n",
       "357    Married-civ-spouse   Prof-specialty      Husband  White    Male   \n",
       "418    Married-civ-spouse   Prof-specialty      Husband  White    Male   \n",
       "692    Married-civ-spouse  Exec-managerial      Husband  White    Male   \n",
       "...                   ...              ...          ...    ...     ...   \n",
       "48109  Married-civ-spouse  Exec-managerial      Husband  White    Male   \n",
       "48253  Married-civ-spouse  Exec-managerial      Husband  White    Male   \n",
       "48371  Married-civ-spouse  Exec-managerial      Husband  White    Male   \n",
       "48519  Married-civ-spouse  Exec-managerial      Husband  White    Male   \n",
       "48799  Married-civ-spouse     Craft-repair      Husband  White    Male   \n",
       "\n",
       "       capital-gain  capital-loss  hours-per-week native-country income  \n",
       "83            99999             0              50  United-States   >50K  \n",
       "346           99999             0              40  United-States   >50K  \n",
       "357           99999             0              80  United-States   >50K  \n",
       "418           99999             0              40  United-States   >50K  \n",
       "692           99999             0              55  United-States   >50K  \n",
       "...             ...           ...             ...            ...    ...  \n",
       "48109         99999             0              55  United-States   >50K  \n",
       "48253         99999             0              40  United-States   >50K  \n",
       "48371         99999             0              55  United-States   >50K  \n",
       "48519         99999             0              40  United-States   >50K  \n",
       "48799         99999             0              40  United-States   >50K  \n",
       "\n",
       "[244 rows x 14 columns]"
      ]
     },
     "execution_count": 75,
     "metadata": {},
     "output_type": "execute_result"
    }
   ],
   "source": [
    "df[df['capital-gain']>90000]"
   ]
  },
  {
   "cell_type": "code",
   "execution_count": 76,
   "id": "d5d6b985",
   "metadata": {
    "scrolled": false
   },
   "outputs": [
    {
     "data": {
      "text/plain": [
       "Private             131\n",
       "Self-emp-inc         60\n",
       "Self-emp-not-inc     40\n",
       "Local-gov             7\n",
       "State-gov             4\n",
       "Federal-gov           2\n",
       "Name: workclass, dtype: int64"
      ]
     },
     "execution_count": 76,
     "metadata": {},
     "output_type": "execute_result"
    }
   ],
   "source": [
    "df[df['capital-gain']>90000]['workclass'].value_counts()"
   ]
  },
  {
   "cell_type": "code",
   "execution_count": 176,
   "id": "3cf2d602",
   "metadata": {},
   "outputs": [
    {
     "data": {
      "text/plain": [
       "41310"
      ]
     },
     "execution_count": 176,
     "metadata": {},
     "output_type": "execute_result"
    }
   ],
   "source": [
    "df[(df['workclass']=='Private') & (df['capital-gain']<90000) ]['capital-gain'].max()"
   ]
  },
  {
   "cell_type": "code",
   "execution_count": 163,
   "id": "2a5f6220",
   "metadata": {},
   "outputs": [
    {
     "data": {
      "text/html": [
       "<div>\n",
       "<style scoped>\n",
       "    .dataframe tbody tr th:only-of-type {\n",
       "        vertical-align: middle;\n",
       "    }\n",
       "\n",
       "    .dataframe tbody tr th {\n",
       "        vertical-align: top;\n",
       "    }\n",
       "\n",
       "    .dataframe thead th {\n",
       "        text-align: right;\n",
       "    }\n",
       "</style>\n",
       "<table border=\"1\" class=\"dataframe\">\n",
       "  <thead>\n",
       "    <tr style=\"text-align: right;\">\n",
       "      <th></th>\n",
       "      <th>age</th>\n",
       "      <th>workclass</th>\n",
       "      <th>education</th>\n",
       "      <th>educational-num</th>\n",
       "      <th>marital-status</th>\n",
       "      <th>occupation</th>\n",
       "      <th>relationship</th>\n",
       "      <th>race</th>\n",
       "      <th>gender</th>\n",
       "      <th>capital-gain</th>\n",
       "      <th>capital-loss</th>\n",
       "      <th>hours-per-week</th>\n",
       "      <th>native-country</th>\n",
       "      <th>income</th>\n",
       "    </tr>\n",
       "  </thead>\n",
       "  <tbody>\n",
       "    <tr>\n",
       "      <th>3605</th>\n",
       "      <td>36</td>\n",
       "      <td>Self-emp-not-inc</td>\n",
       "      <td>HS-grad</td>\n",
       "      <td>9</td>\n",
       "      <td>Married-civ-spouse</td>\n",
       "      <td>Exec-managerial</td>\n",
       "      <td>Husband</td>\n",
       "      <td>Asian-Pac-Islander</td>\n",
       "      <td>Male</td>\n",
       "      <td>41310</td>\n",
       "      <td>0</td>\n",
       "      <td>90</td>\n",
       "      <td>South</td>\n",
       "      <td>&lt;=50K</td>\n",
       "    </tr>\n",
       "    <tr>\n",
       "      <th>22714</th>\n",
       "      <td>27</td>\n",
       "      <td>Private</td>\n",
       "      <td>Preschool</td>\n",
       "      <td>1</td>\n",
       "      <td>Married-civ-spouse</td>\n",
       "      <td>Farming-fishing</td>\n",
       "      <td>Other-relative</td>\n",
       "      <td>White</td>\n",
       "      <td>Male</td>\n",
       "      <td>41310</td>\n",
       "      <td>0</td>\n",
       "      <td>24</td>\n",
       "      <td>Mexico</td>\n",
       "      <td>&lt;=50K</td>\n",
       "    </tr>\n",
       "    <tr>\n",
       "      <th>36457</th>\n",
       "      <td>63</td>\n",
       "      <td>Self-emp-not-inc</td>\n",
       "      <td>Masters</td>\n",
       "      <td>14</td>\n",
       "      <td>Married-civ-spouse</td>\n",
       "      <td>Farming-fishing</td>\n",
       "      <td>Husband</td>\n",
       "      <td>White</td>\n",
       "      <td>Male</td>\n",
       "      <td>41310</td>\n",
       "      <td>0</td>\n",
       "      <td>50</td>\n",
       "      <td>United-States</td>\n",
       "      <td>&lt;=50K</td>\n",
       "    </tr>\n",
       "  </tbody>\n",
       "</table>\n",
       "</div>"
      ],
      "text/plain": [
       "       age         workclass  education  educational-num      marital-status  \\\n",
       "3605    36  Self-emp-not-inc    HS-grad                9  Married-civ-spouse   \n",
       "22714   27           Private  Preschool                1  Married-civ-spouse   \n",
       "36457   63  Self-emp-not-inc    Masters               14  Married-civ-spouse   \n",
       "\n",
       "            occupation    relationship                race gender  \\\n",
       "3605   Exec-managerial         Husband  Asian-Pac-Islander   Male   \n",
       "22714  Farming-fishing  Other-relative               White   Male   \n",
       "36457  Farming-fishing         Husband               White   Male   \n",
       "\n",
       "       capital-gain  capital-loss  hours-per-week native-country income  \n",
       "3605          41310             0              90          South  <=50K  \n",
       "22714         41310             0              24         Mexico  <=50K  \n",
       "36457         41310             0              50  United-States  <=50K  "
      ]
     },
     "execution_count": 163,
     "metadata": {},
     "output_type": "execute_result"
    }
   ],
   "source": [
    "df[(df['capital-gain']>40000)&(df['capital-gain']<90000)]"
   ]
  },
  {
   "cell_type": "code",
   "execution_count": 77,
   "id": "f9dcafe2",
   "metadata": {},
   "outputs": [
    {
     "data": {
      "text/plain": [
       "Prof-school     68\n",
       "Bachelors       63\n",
       "HS-grad         34\n",
       "Masters         30\n",
       "Doctorate       23\n",
       "Some-college    18\n",
       "Assoc-voc        3\n",
       "10th             2\n",
       "5th-6th          1\n",
       "Assoc-acdm       1\n",
       "9th              1\n",
       "Name: education, dtype: int64"
      ]
     },
     "execution_count": 77,
     "metadata": {},
     "output_type": "execute_result"
    }
   ],
   "source": [
    "df[df['capital-gain']>90000]['education'].value_counts()"
   ]
  },
  {
   "cell_type": "code",
   "execution_count": 78,
   "id": "97af33bc",
   "metadata": {
    "scrolled": true
   },
   "outputs": [
    {
     "data": {
      "text/plain": [
       "Prof-specialty       101\n",
       "Exec-managerial       67\n",
       "Sales                 34\n",
       "Craft-repair          16\n",
       "Adm-clerical           9\n",
       "Other-service          7\n",
       "Farming-fishing        3\n",
       "Handlers-cleaners      2\n",
       "Protective-serv        2\n",
       "Machine-op-inspct      1\n",
       "Transport-moving       1\n",
       "Tech-support           1\n",
       "Name: occupation, dtype: int64"
      ]
     },
     "execution_count": 78,
     "metadata": {},
     "output_type": "execute_result"
    }
   ],
   "source": [
    "df[df['capital-gain']>90000]['occupation'].value_counts()"
   ]
  },
  {
   "cell_type": "code",
   "execution_count": 175,
   "id": "1036bbdf",
   "metadata": {},
   "outputs": [
    {
     "data": {
      "text/plain": [
       "27828"
      ]
     },
     "execution_count": 175,
     "metadata": {},
     "output_type": "execute_result"
    }
   ],
   "source": [
    "df[(df['occupation']=='Prof-specialty')&(df['capital-gain']<90000)]['capital-gain'].max()"
   ]
  },
  {
   "cell_type": "code",
   "execution_count": 79,
   "id": "2d1cf4e4",
   "metadata": {},
   "outputs": [
    {
     "data": {
      "text/plain": [
       ">50K    244\n",
       "Name: income, dtype: int64"
      ]
     },
     "execution_count": 79,
     "metadata": {},
     "output_type": "execute_result"
    }
   ],
   "source": [
    "df[df['capital-gain']>90000]['income'].value_counts()"
   ]
  },
  {
   "cell_type": "code",
   "execution_count": 177,
   "id": "6b2c3834",
   "metadata": {},
   "outputs": [
    {
     "data": {
      "text/plain": [
       "27828"
      ]
     },
     "execution_count": 177,
     "metadata": {},
     "output_type": "execute_result"
    }
   ],
   "source": [
    "df[(df['income']=='>50K')&(df['capital-gain']<90000)]['capital-gain'].max()"
   ]
  },
  {
   "cell_type": "markdown",
   "id": "edf39e0d",
   "metadata": {},
   "source": [
    "##### Outliers in Numerical data:\n",
    "\n",
    "    1. age:\n",
    "        there can be people with age more than 78 years , data is ok\n",
    "    \n",
    "    2. educational-num:\n",
    "        there can be educational-num with less than 4.5, data is ok\n",
    "\n",
    "    3. capital-gain:\n",
    "        as there are entries with 0 capital loss which is also multiplier when calculating outliers, \n",
    "        therefore upper limit and lower limits are calculated as 0\n",
    "          - there are some entries of value '99999',  from above data we can see that most of them \n",
    "              a. have done 'Bachelors' and 'Professional Schooling'\n",
    "              a. have income more than 50k,\n",
    "              b. are with occupation of 'Prof-specialty'\n",
    "              Therefore capital-gain of '99999' can be considered valid.\n",
    "\n",
    "    4. capital-loss:\n",
    "        as there are entries with 0 capital loss which is also multiplier when calculating outliers, \n",
    "        therefore upper limit and lower limits are calculated as 0\n",
    "\n",
    "    5. hours-per-week:\n",
    "        as minimum hours-per-week is 1 and maximum hour-per-week are 99, there can be people \n",
    "        with hours-per-week less than 40 and higher than 45"
   ]
  },
  {
   "cell_type": "markdown",
   "id": "adf47eb2",
   "metadata": {},
   "source": [
    "###### Lets re-define categorical and numerical dataframe, as we have replaced missing values only in original dataframe."
   ]
  },
  {
   "cell_type": "code",
   "execution_count": 187,
   "id": "97de9e9d",
   "metadata": {},
   "outputs": [],
   "source": [
    "df_cat=df.select_dtypes(include='object') #categorical dataframe"
   ]
  },
  {
   "cell_type": "code",
   "execution_count": 188,
   "id": "827816f4",
   "metadata": {},
   "outputs": [],
   "source": [
    "df_cat=df_cat.drop('income',axis=1) #droping target variable "
   ]
  },
  {
   "cell_type": "code",
   "execution_count": 189,
   "id": "b25c697f",
   "metadata": {},
   "outputs": [],
   "source": [
    "df_num=df.select_dtypes(exclude='object') #Numerical dataframe"
   ]
  },
  {
   "cell_type": "markdown",
   "id": "354a92d8",
   "metadata": {},
   "source": [
    "##### EDA is nearly complete; let's move on to Feature Engineering."
   ]
  },
  {
   "cell_type": "code",
   "execution_count": 190,
   "id": "dcfffc9d",
   "metadata": {},
   "outputs": [
    {
     "data": {
      "text/html": [
       "<div>\n",
       "<style scoped>\n",
       "    .dataframe tbody tr th:only-of-type {\n",
       "        vertical-align: middle;\n",
       "    }\n",
       "\n",
       "    .dataframe tbody tr th {\n",
       "        vertical-align: top;\n",
       "    }\n",
       "\n",
       "    .dataframe thead th {\n",
       "        text-align: right;\n",
       "    }\n",
       "</style>\n",
       "<table border=\"1\" class=\"dataframe\">\n",
       "  <thead>\n",
       "    <tr style=\"text-align: right;\">\n",
       "      <th></th>\n",
       "      <th>workclass</th>\n",
       "      <th>education</th>\n",
       "      <th>marital-status</th>\n",
       "      <th>occupation</th>\n",
       "      <th>relationship</th>\n",
       "      <th>race</th>\n",
       "      <th>gender</th>\n",
       "      <th>native-country</th>\n",
       "    </tr>\n",
       "  </thead>\n",
       "  <tbody>\n",
       "    <tr>\n",
       "      <th>0</th>\n",
       "      <td>Private</td>\n",
       "      <td>11th</td>\n",
       "      <td>Never-married</td>\n",
       "      <td>Machine-op-inspct</td>\n",
       "      <td>Own-child</td>\n",
       "      <td>Black</td>\n",
       "      <td>Male</td>\n",
       "      <td>United-States</td>\n",
       "    </tr>\n",
       "    <tr>\n",
       "      <th>1</th>\n",
       "      <td>Private</td>\n",
       "      <td>HS-grad</td>\n",
       "      <td>Married-civ-spouse</td>\n",
       "      <td>Farming-fishing</td>\n",
       "      <td>Husband</td>\n",
       "      <td>White</td>\n",
       "      <td>Male</td>\n",
       "      <td>United-States</td>\n",
       "    </tr>\n",
       "    <tr>\n",
       "      <th>2</th>\n",
       "      <td>Local-gov</td>\n",
       "      <td>Assoc-acdm</td>\n",
       "      <td>Married-civ-spouse</td>\n",
       "      <td>Protective-serv</td>\n",
       "      <td>Husband</td>\n",
       "      <td>White</td>\n",
       "      <td>Male</td>\n",
       "      <td>United-States</td>\n",
       "    </tr>\n",
       "    <tr>\n",
       "      <th>3</th>\n",
       "      <td>Private</td>\n",
       "      <td>Some-college</td>\n",
       "      <td>Married-civ-spouse</td>\n",
       "      <td>Machine-op-inspct</td>\n",
       "      <td>Husband</td>\n",
       "      <td>Black</td>\n",
       "      <td>Male</td>\n",
       "      <td>United-States</td>\n",
       "    </tr>\n",
       "    <tr>\n",
       "      <th>4</th>\n",
       "      <td>Private</td>\n",
       "      <td>Some-college</td>\n",
       "      <td>Never-married</td>\n",
       "      <td>Adm-clerical</td>\n",
       "      <td>Own-child</td>\n",
       "      <td>White</td>\n",
       "      <td>Female</td>\n",
       "      <td>United-States</td>\n",
       "    </tr>\n",
       "  </tbody>\n",
       "</table>\n",
       "</div>"
      ],
      "text/plain": [
       "   workclass     education      marital-status         occupation  \\\n",
       "0    Private          11th       Never-married  Machine-op-inspct   \n",
       "1    Private       HS-grad  Married-civ-spouse    Farming-fishing   \n",
       "2  Local-gov    Assoc-acdm  Married-civ-spouse    Protective-serv   \n",
       "3    Private  Some-college  Married-civ-spouse  Machine-op-inspct   \n",
       "4    Private  Some-college       Never-married       Adm-clerical   \n",
       "\n",
       "  relationship   race  gender native-country  \n",
       "0    Own-child  Black    Male  United-States  \n",
       "1      Husband  White    Male  United-States  \n",
       "2      Husband  White    Male  United-States  \n",
       "3      Husband  Black    Male  United-States  \n",
       "4    Own-child  White  Female  United-States  "
      ]
     },
     "execution_count": 190,
     "metadata": {},
     "output_type": "execute_result"
    }
   ],
   "source": [
    "df_cat.head()"
   ]
  },
  {
   "cell_type": "code",
   "execution_count": 191,
   "id": "acd77e1d",
   "metadata": {},
   "outputs": [],
   "source": [
    "#Lets create dummy variables for categorical features by OneHot encoding:"
   ]
  },
  {
   "cell_type": "code",
   "execution_count": 192,
   "id": "38f7e8dc",
   "metadata": {},
   "outputs": [],
   "source": [
    "df_cat_dum=pd.get_dummies(df_cat,drop_first=True)"
   ]
  },
  {
   "cell_type": "code",
   "execution_count": 193,
   "id": "493c6a4e",
   "metadata": {
    "scrolled": true
   },
   "outputs": [
    {
     "data": {
      "text/html": [
       "<div>\n",
       "<style scoped>\n",
       "    .dataframe tbody tr th:only-of-type {\n",
       "        vertical-align: middle;\n",
       "    }\n",
       "\n",
       "    .dataframe tbody tr th {\n",
       "        vertical-align: top;\n",
       "    }\n",
       "\n",
       "    .dataframe thead th {\n",
       "        text-align: right;\n",
       "    }\n",
       "</style>\n",
       "<table border=\"1\" class=\"dataframe\">\n",
       "  <thead>\n",
       "    <tr style=\"text-align: right;\">\n",
       "      <th></th>\n",
       "      <th>workclass_Local-gov</th>\n",
       "      <th>workclass_Never-worked</th>\n",
       "      <th>workclass_Private</th>\n",
       "      <th>workclass_Self-emp-inc</th>\n",
       "      <th>workclass_Self-emp-not-inc</th>\n",
       "      <th>workclass_State-gov</th>\n",
       "      <th>workclass_Without-pay</th>\n",
       "      <th>education_11th</th>\n",
       "      <th>education_12th</th>\n",
       "      <th>education_1st-4th</th>\n",
       "      <th>...</th>\n",
       "      <th>native-country_Portugal</th>\n",
       "      <th>native-country_Puerto-Rico</th>\n",
       "      <th>native-country_Scotland</th>\n",
       "      <th>native-country_South</th>\n",
       "      <th>native-country_Taiwan</th>\n",
       "      <th>native-country_Thailand</th>\n",
       "      <th>native-country_Trinadad&amp;Tobago</th>\n",
       "      <th>native-country_United-States</th>\n",
       "      <th>native-country_Vietnam</th>\n",
       "      <th>native-country_Yugoslavia</th>\n",
       "    </tr>\n",
       "  </thead>\n",
       "  <tbody>\n",
       "    <tr>\n",
       "      <th>0</th>\n",
       "      <td>0</td>\n",
       "      <td>0</td>\n",
       "      <td>1</td>\n",
       "      <td>0</td>\n",
       "      <td>0</td>\n",
       "      <td>0</td>\n",
       "      <td>0</td>\n",
       "      <td>1</td>\n",
       "      <td>0</td>\n",
       "      <td>0</td>\n",
       "      <td>...</td>\n",
       "      <td>0</td>\n",
       "      <td>0</td>\n",
       "      <td>0</td>\n",
       "      <td>0</td>\n",
       "      <td>0</td>\n",
       "      <td>0</td>\n",
       "      <td>0</td>\n",
       "      <td>1</td>\n",
       "      <td>0</td>\n",
       "      <td>0</td>\n",
       "    </tr>\n",
       "    <tr>\n",
       "      <th>1</th>\n",
       "      <td>0</td>\n",
       "      <td>0</td>\n",
       "      <td>1</td>\n",
       "      <td>0</td>\n",
       "      <td>0</td>\n",
       "      <td>0</td>\n",
       "      <td>0</td>\n",
       "      <td>0</td>\n",
       "      <td>0</td>\n",
       "      <td>0</td>\n",
       "      <td>...</td>\n",
       "      <td>0</td>\n",
       "      <td>0</td>\n",
       "      <td>0</td>\n",
       "      <td>0</td>\n",
       "      <td>0</td>\n",
       "      <td>0</td>\n",
       "      <td>0</td>\n",
       "      <td>1</td>\n",
       "      <td>0</td>\n",
       "      <td>0</td>\n",
       "    </tr>\n",
       "    <tr>\n",
       "      <th>2</th>\n",
       "      <td>1</td>\n",
       "      <td>0</td>\n",
       "      <td>0</td>\n",
       "      <td>0</td>\n",
       "      <td>0</td>\n",
       "      <td>0</td>\n",
       "      <td>0</td>\n",
       "      <td>0</td>\n",
       "      <td>0</td>\n",
       "      <td>0</td>\n",
       "      <td>...</td>\n",
       "      <td>0</td>\n",
       "      <td>0</td>\n",
       "      <td>0</td>\n",
       "      <td>0</td>\n",
       "      <td>0</td>\n",
       "      <td>0</td>\n",
       "      <td>0</td>\n",
       "      <td>1</td>\n",
       "      <td>0</td>\n",
       "      <td>0</td>\n",
       "    </tr>\n",
       "    <tr>\n",
       "      <th>3</th>\n",
       "      <td>0</td>\n",
       "      <td>0</td>\n",
       "      <td>1</td>\n",
       "      <td>0</td>\n",
       "      <td>0</td>\n",
       "      <td>0</td>\n",
       "      <td>0</td>\n",
       "      <td>0</td>\n",
       "      <td>0</td>\n",
       "      <td>0</td>\n",
       "      <td>...</td>\n",
       "      <td>0</td>\n",
       "      <td>0</td>\n",
       "      <td>0</td>\n",
       "      <td>0</td>\n",
       "      <td>0</td>\n",
       "      <td>0</td>\n",
       "      <td>0</td>\n",
       "      <td>1</td>\n",
       "      <td>0</td>\n",
       "      <td>0</td>\n",
       "    </tr>\n",
       "    <tr>\n",
       "      <th>4</th>\n",
       "      <td>0</td>\n",
       "      <td>0</td>\n",
       "      <td>1</td>\n",
       "      <td>0</td>\n",
       "      <td>0</td>\n",
       "      <td>0</td>\n",
       "      <td>0</td>\n",
       "      <td>0</td>\n",
       "      <td>0</td>\n",
       "      <td>0</td>\n",
       "      <td>...</td>\n",
       "      <td>0</td>\n",
       "      <td>0</td>\n",
       "      <td>0</td>\n",
       "      <td>0</td>\n",
       "      <td>0</td>\n",
       "      <td>0</td>\n",
       "      <td>0</td>\n",
       "      <td>1</td>\n",
       "      <td>0</td>\n",
       "      <td>0</td>\n",
       "    </tr>\n",
       "  </tbody>\n",
       "</table>\n",
       "<p>5 rows × 91 columns</p>\n",
       "</div>"
      ],
      "text/plain": [
       "   workclass_Local-gov  workclass_Never-worked  workclass_Private  \\\n",
       "0                    0                       0                  1   \n",
       "1                    0                       0                  1   \n",
       "2                    1                       0                  0   \n",
       "3                    0                       0                  1   \n",
       "4                    0                       0                  1   \n",
       "\n",
       "   workclass_Self-emp-inc  workclass_Self-emp-not-inc  workclass_State-gov  \\\n",
       "0                       0                           0                    0   \n",
       "1                       0                           0                    0   \n",
       "2                       0                           0                    0   \n",
       "3                       0                           0                    0   \n",
       "4                       0                           0                    0   \n",
       "\n",
       "   workclass_Without-pay  education_11th  education_12th  education_1st-4th  \\\n",
       "0                      0               1               0                  0   \n",
       "1                      0               0               0                  0   \n",
       "2                      0               0               0                  0   \n",
       "3                      0               0               0                  0   \n",
       "4                      0               0               0                  0   \n",
       "\n",
       "   ...  native-country_Portugal  native-country_Puerto-Rico  \\\n",
       "0  ...                        0                           0   \n",
       "1  ...                        0                           0   \n",
       "2  ...                        0                           0   \n",
       "3  ...                        0                           0   \n",
       "4  ...                        0                           0   \n",
       "\n",
       "   native-country_Scotland  native-country_South  native-country_Taiwan  \\\n",
       "0                        0                     0                      0   \n",
       "1                        0                     0                      0   \n",
       "2                        0                     0                      0   \n",
       "3                        0                     0                      0   \n",
       "4                        0                     0                      0   \n",
       "\n",
       "   native-country_Thailand  native-country_Trinadad&Tobago  \\\n",
       "0                        0                               0   \n",
       "1                        0                               0   \n",
       "2                        0                               0   \n",
       "3                        0                               0   \n",
       "4                        0                               0   \n",
       "\n",
       "   native-country_United-States  native-country_Vietnam  \\\n",
       "0                             1                       0   \n",
       "1                             1                       0   \n",
       "2                             1                       0   \n",
       "3                             1                       0   \n",
       "4                             1                       0   \n",
       "\n",
       "   native-country_Yugoslavia  \n",
       "0                          0  \n",
       "1                          0  \n",
       "2                          0  \n",
       "3                          0  \n",
       "4                          0  \n",
       "\n",
       "[5 rows x 91 columns]"
      ]
     },
     "execution_count": 193,
     "metadata": {},
     "output_type": "execute_result"
    }
   ],
   "source": [
    "df_cat_dum.head()"
   ]
  },
  {
   "cell_type": "code",
   "execution_count": 194,
   "id": "0b572ae0",
   "metadata": {},
   "outputs": [
    {
     "data": {
      "text/html": [
       "<div>\n",
       "<style scoped>\n",
       "    .dataframe tbody tr th:only-of-type {\n",
       "        vertical-align: middle;\n",
       "    }\n",
       "\n",
       "    .dataframe tbody tr th {\n",
       "        vertical-align: top;\n",
       "    }\n",
       "\n",
       "    .dataframe thead th {\n",
       "        text-align: right;\n",
       "    }\n",
       "</style>\n",
       "<table border=\"1\" class=\"dataframe\">\n",
       "  <thead>\n",
       "    <tr style=\"text-align: right;\">\n",
       "      <th></th>\n",
       "      <th>age</th>\n",
       "      <th>educational-num</th>\n",
       "      <th>capital-gain</th>\n",
       "      <th>capital-loss</th>\n",
       "      <th>hours-per-week</th>\n",
       "    </tr>\n",
       "  </thead>\n",
       "  <tbody>\n",
       "    <tr>\n",
       "      <th>0</th>\n",
       "      <td>25</td>\n",
       "      <td>7</td>\n",
       "      <td>0</td>\n",
       "      <td>0</td>\n",
       "      <td>40</td>\n",
       "    </tr>\n",
       "    <tr>\n",
       "      <th>1</th>\n",
       "      <td>38</td>\n",
       "      <td>9</td>\n",
       "      <td>0</td>\n",
       "      <td>0</td>\n",
       "      <td>50</td>\n",
       "    </tr>\n",
       "    <tr>\n",
       "      <th>2</th>\n",
       "      <td>28</td>\n",
       "      <td>12</td>\n",
       "      <td>0</td>\n",
       "      <td>0</td>\n",
       "      <td>40</td>\n",
       "    </tr>\n",
       "    <tr>\n",
       "      <th>3</th>\n",
       "      <td>44</td>\n",
       "      <td>10</td>\n",
       "      <td>7688</td>\n",
       "      <td>0</td>\n",
       "      <td>40</td>\n",
       "    </tr>\n",
       "    <tr>\n",
       "      <th>4</th>\n",
       "      <td>18</td>\n",
       "      <td>10</td>\n",
       "      <td>0</td>\n",
       "      <td>0</td>\n",
       "      <td>30</td>\n",
       "    </tr>\n",
       "  </tbody>\n",
       "</table>\n",
       "</div>"
      ],
      "text/plain": [
       "   age  educational-num  capital-gain  capital-loss  hours-per-week\n",
       "0   25                7             0             0              40\n",
       "1   38                9             0             0              50\n",
       "2   28               12             0             0              40\n",
       "3   44               10          7688             0              40\n",
       "4   18               10             0             0              30"
      ]
     },
     "execution_count": 194,
     "metadata": {},
     "output_type": "execute_result"
    }
   ],
   "source": [
    "df_num.head()"
   ]
  },
  {
   "cell_type": "code",
   "execution_count": 195,
   "id": "e0466d71",
   "metadata": {},
   "outputs": [],
   "source": [
    "#lets concatenate numerical dataframe with categorical dataframe (with dummies):\n",
    "df_final=pd.concat([df_num,df_cat_dum],axis=1)"
   ]
  },
  {
   "cell_type": "code",
   "execution_count": 196,
   "id": "a5c18c96",
   "metadata": {},
   "outputs": [
    {
     "data": {
      "text/html": [
       "<div>\n",
       "<style scoped>\n",
       "    .dataframe tbody tr th:only-of-type {\n",
       "        vertical-align: middle;\n",
       "    }\n",
       "\n",
       "    .dataframe tbody tr th {\n",
       "        vertical-align: top;\n",
       "    }\n",
       "\n",
       "    .dataframe thead th {\n",
       "        text-align: right;\n",
       "    }\n",
       "</style>\n",
       "<table border=\"1\" class=\"dataframe\">\n",
       "  <thead>\n",
       "    <tr style=\"text-align: right;\">\n",
       "      <th></th>\n",
       "      <th>age</th>\n",
       "      <th>educational-num</th>\n",
       "      <th>capital-gain</th>\n",
       "      <th>capital-loss</th>\n",
       "      <th>hours-per-week</th>\n",
       "      <th>workclass_Local-gov</th>\n",
       "      <th>workclass_Never-worked</th>\n",
       "      <th>workclass_Private</th>\n",
       "      <th>workclass_Self-emp-inc</th>\n",
       "      <th>workclass_Self-emp-not-inc</th>\n",
       "      <th>...</th>\n",
       "      <th>native-country_Portugal</th>\n",
       "      <th>native-country_Puerto-Rico</th>\n",
       "      <th>native-country_Scotland</th>\n",
       "      <th>native-country_South</th>\n",
       "      <th>native-country_Taiwan</th>\n",
       "      <th>native-country_Thailand</th>\n",
       "      <th>native-country_Trinadad&amp;Tobago</th>\n",
       "      <th>native-country_United-States</th>\n",
       "      <th>native-country_Vietnam</th>\n",
       "      <th>native-country_Yugoslavia</th>\n",
       "    </tr>\n",
       "  </thead>\n",
       "  <tbody>\n",
       "    <tr>\n",
       "      <th>0</th>\n",
       "      <td>25</td>\n",
       "      <td>7</td>\n",
       "      <td>0</td>\n",
       "      <td>0</td>\n",
       "      <td>40</td>\n",
       "      <td>0</td>\n",
       "      <td>0</td>\n",
       "      <td>1</td>\n",
       "      <td>0</td>\n",
       "      <td>0</td>\n",
       "      <td>...</td>\n",
       "      <td>0</td>\n",
       "      <td>0</td>\n",
       "      <td>0</td>\n",
       "      <td>0</td>\n",
       "      <td>0</td>\n",
       "      <td>0</td>\n",
       "      <td>0</td>\n",
       "      <td>1</td>\n",
       "      <td>0</td>\n",
       "      <td>0</td>\n",
       "    </tr>\n",
       "    <tr>\n",
       "      <th>1</th>\n",
       "      <td>38</td>\n",
       "      <td>9</td>\n",
       "      <td>0</td>\n",
       "      <td>0</td>\n",
       "      <td>50</td>\n",
       "      <td>0</td>\n",
       "      <td>0</td>\n",
       "      <td>1</td>\n",
       "      <td>0</td>\n",
       "      <td>0</td>\n",
       "      <td>...</td>\n",
       "      <td>0</td>\n",
       "      <td>0</td>\n",
       "      <td>0</td>\n",
       "      <td>0</td>\n",
       "      <td>0</td>\n",
       "      <td>0</td>\n",
       "      <td>0</td>\n",
       "      <td>1</td>\n",
       "      <td>0</td>\n",
       "      <td>0</td>\n",
       "    </tr>\n",
       "    <tr>\n",
       "      <th>2</th>\n",
       "      <td>28</td>\n",
       "      <td>12</td>\n",
       "      <td>0</td>\n",
       "      <td>0</td>\n",
       "      <td>40</td>\n",
       "      <td>1</td>\n",
       "      <td>0</td>\n",
       "      <td>0</td>\n",
       "      <td>0</td>\n",
       "      <td>0</td>\n",
       "      <td>...</td>\n",
       "      <td>0</td>\n",
       "      <td>0</td>\n",
       "      <td>0</td>\n",
       "      <td>0</td>\n",
       "      <td>0</td>\n",
       "      <td>0</td>\n",
       "      <td>0</td>\n",
       "      <td>1</td>\n",
       "      <td>0</td>\n",
       "      <td>0</td>\n",
       "    </tr>\n",
       "    <tr>\n",
       "      <th>3</th>\n",
       "      <td>44</td>\n",
       "      <td>10</td>\n",
       "      <td>7688</td>\n",
       "      <td>0</td>\n",
       "      <td>40</td>\n",
       "      <td>0</td>\n",
       "      <td>0</td>\n",
       "      <td>1</td>\n",
       "      <td>0</td>\n",
       "      <td>0</td>\n",
       "      <td>...</td>\n",
       "      <td>0</td>\n",
       "      <td>0</td>\n",
       "      <td>0</td>\n",
       "      <td>0</td>\n",
       "      <td>0</td>\n",
       "      <td>0</td>\n",
       "      <td>0</td>\n",
       "      <td>1</td>\n",
       "      <td>0</td>\n",
       "      <td>0</td>\n",
       "    </tr>\n",
       "    <tr>\n",
       "      <th>4</th>\n",
       "      <td>18</td>\n",
       "      <td>10</td>\n",
       "      <td>0</td>\n",
       "      <td>0</td>\n",
       "      <td>30</td>\n",
       "      <td>0</td>\n",
       "      <td>0</td>\n",
       "      <td>1</td>\n",
       "      <td>0</td>\n",
       "      <td>0</td>\n",
       "      <td>...</td>\n",
       "      <td>0</td>\n",
       "      <td>0</td>\n",
       "      <td>0</td>\n",
       "      <td>0</td>\n",
       "      <td>0</td>\n",
       "      <td>0</td>\n",
       "      <td>0</td>\n",
       "      <td>1</td>\n",
       "      <td>0</td>\n",
       "      <td>0</td>\n",
       "    </tr>\n",
       "  </tbody>\n",
       "</table>\n",
       "<p>5 rows × 96 columns</p>\n",
       "</div>"
      ],
      "text/plain": [
       "   age  educational-num  capital-gain  capital-loss  hours-per-week  \\\n",
       "0   25                7             0             0              40   \n",
       "1   38                9             0             0              50   \n",
       "2   28               12             0             0              40   \n",
       "3   44               10          7688             0              40   \n",
       "4   18               10             0             0              30   \n",
       "\n",
       "   workclass_Local-gov  workclass_Never-worked  workclass_Private  \\\n",
       "0                    0                       0                  1   \n",
       "1                    0                       0                  1   \n",
       "2                    1                       0                  0   \n",
       "3                    0                       0                  1   \n",
       "4                    0                       0                  1   \n",
       "\n",
       "   workclass_Self-emp-inc  workclass_Self-emp-not-inc  ...  \\\n",
       "0                       0                           0  ...   \n",
       "1                       0                           0  ...   \n",
       "2                       0                           0  ...   \n",
       "3                       0                           0  ...   \n",
       "4                       0                           0  ...   \n",
       "\n",
       "   native-country_Portugal  native-country_Puerto-Rico  \\\n",
       "0                        0                           0   \n",
       "1                        0                           0   \n",
       "2                        0                           0   \n",
       "3                        0                           0   \n",
       "4                        0                           0   \n",
       "\n",
       "   native-country_Scotland  native-country_South  native-country_Taiwan  \\\n",
       "0                        0                     0                      0   \n",
       "1                        0                     0                      0   \n",
       "2                        0                     0                      0   \n",
       "3                        0                     0                      0   \n",
       "4                        0                     0                      0   \n",
       "\n",
       "   native-country_Thailand  native-country_Trinadad&Tobago  \\\n",
       "0                        0                               0   \n",
       "1                        0                               0   \n",
       "2                        0                               0   \n",
       "3                        0                               0   \n",
       "4                        0                               0   \n",
       "\n",
       "   native-country_United-States  native-country_Vietnam  \\\n",
       "0                             1                       0   \n",
       "1                             1                       0   \n",
       "2                             1                       0   \n",
       "3                             1                       0   \n",
       "4                             1                       0   \n",
       "\n",
       "   native-country_Yugoslavia  \n",
       "0                          0  \n",
       "1                          0  \n",
       "2                          0  \n",
       "3                          0  \n",
       "4                          0  \n",
       "\n",
       "[5 rows x 96 columns]"
      ]
     },
     "execution_count": 196,
     "metadata": {},
     "output_type": "execute_result"
    }
   ],
   "source": [
    "df_final.head()"
   ]
  },
  {
   "cell_type": "code",
   "execution_count": 197,
   "id": "38667291",
   "metadata": {},
   "outputs": [],
   "source": [
    "#Lets separate dependant and independant variables\n",
    "\n",
    "X=df_final #Independant variables\n",
    "y=df['income'] #Dependant variable (Target)"
   ]
  },
  {
   "cell_type": "code",
   "execution_count": 198,
   "id": "3b1a4f0f",
   "metadata": {},
   "outputs": [],
   "source": [
    "#lets split training and testing data\n",
    "from sklearn.model_selection import train_test_split"
   ]
  },
  {
   "cell_type": "code",
   "execution_count": 199,
   "id": "27965e9c",
   "metadata": {},
   "outputs": [],
   "source": [
    "X_train, X_test, y_train, y_test = train_test_split(X, y, test_size=0.2, random_state=101)"
   ]
  },
  {
   "cell_type": "code",
   "execution_count": 200,
   "id": "054a7387",
   "metadata": {},
   "outputs": [],
   "source": [
    "# Lets standardize data,\n",
    "from sklearn.preprocessing import StandardScaler"
   ]
  },
  {
   "cell_type": "code",
   "execution_count": 201,
   "id": "51e0ddce",
   "metadata": {},
   "outputs": [],
   "source": [
    "scaler=StandardScaler()"
   ]
  },
  {
   "cell_type": "code",
   "execution_count": 202,
   "id": "27e85e6d",
   "metadata": {},
   "outputs": [],
   "source": [
    "X_train=scaler.fit_transform(X_train)"
   ]
  },
  {
   "cell_type": "code",
   "execution_count": 203,
   "id": "51bf80ba",
   "metadata": {},
   "outputs": [],
   "source": [
    "X_test=scaler.transform(X_test)"
   ]
  },
  {
   "cell_type": "code",
   "execution_count": 204,
   "id": "437329ef",
   "metadata": {},
   "outputs": [],
   "source": [
    "#Lets create KNN model\n",
    "from sklearn.neighbors import KNeighborsClassifier"
   ]
  },
  {
   "cell_type": "code",
   "execution_count": 205,
   "id": "11296aec",
   "metadata": {},
   "outputs": [],
   "source": [
    "knn=KNeighborsClassifier()"
   ]
  },
  {
   "cell_type": "code",
   "execution_count": 206,
   "id": "fbf23ab2",
   "metadata": {},
   "outputs": [],
   "source": [
    "#Lets frind best K value(i.e n_neighbors) through GridSearch"
   ]
  },
  {
   "cell_type": "code",
   "execution_count": 207,
   "id": "782d2c85",
   "metadata": {},
   "outputs": [],
   "source": [
    "from sklearn.model_selection import GridSearchCV"
   ]
  },
  {
   "cell_type": "code",
   "execution_count": 208,
   "id": "36679cb5",
   "metadata": {},
   "outputs": [],
   "source": [
    "param_grid={'n_neighbors':list(range(1,31))}"
   ]
  },
  {
   "cell_type": "code",
   "execution_count": 211,
   "id": "a9274d0c",
   "metadata": {},
   "outputs": [],
   "source": [
    "grid_model=GridSearchCV(knn,param_grid=param_grid,cv=5,scoring='accuracy')"
   ]
  },
  {
   "cell_type": "code",
   "execution_count": 212,
   "id": "fd731018",
   "metadata": {},
   "outputs": [
    {
     "data": {
      "text/plain": [
       "GridSearchCV(cv=5, estimator=KNeighborsClassifier(),\n",
       "             param_grid={'n_neighbors': [1, 2, 3, 4, 5, 6, 7, 8, 9, 10, 11, 12,\n",
       "                                         13, 14, 15, 16, 17, 18, 19, 20, 21, 22,\n",
       "                                         23, 24, 25, 26, 27, 28, 29, 30]},\n",
       "             scoring='accuracy')"
      ]
     },
     "execution_count": 212,
     "metadata": {},
     "output_type": "execute_result"
    }
   ],
   "source": [
    "grid_model.fit(X_train,y_train)"
   ]
  },
  {
   "cell_type": "code",
   "execution_count": 213,
   "id": "6165e6b9",
   "metadata": {},
   "outputs": [
    {
     "data": {
      "text/plain": [
       "{'algorithm': 'auto',\n",
       " 'leaf_size': 30,\n",
       " 'metric': 'minkowski',\n",
       " 'metric_params': None,\n",
       " 'n_jobs': None,\n",
       " 'n_neighbors': 16,\n",
       " 'p': 2,\n",
       " 'weights': 'uniform'}"
      ]
     },
     "execution_count": 213,
     "metadata": {},
     "output_type": "execute_result"
    }
   ],
   "source": [
    "grid_model.best_estimator_.get_params()"
   ]
  },
  {
   "cell_type": "code",
   "execution_count": 214,
   "id": "75e6d12a",
   "metadata": {},
   "outputs": [],
   "source": [
    "y_pred=grid_model.predict(X_test)"
   ]
  },
  {
   "cell_type": "code",
   "execution_count": 215,
   "id": "e51a28d0",
   "metadata": {},
   "outputs": [],
   "source": [
    "#Lets check results\n",
    "\n",
    "from sklearn.metrics import accuracy_score,confusion_matrix,classification_report,recall_score,precision_score"
   ]
  },
  {
   "cell_type": "code",
   "execution_count": 216,
   "id": "6d2e1e3d",
   "metadata": {},
   "outputs": [
    {
     "data": {
      "text/plain": [
       "0.8361111111111111"
      ]
     },
     "execution_count": 216,
     "metadata": {},
     "output_type": "execute_result"
    }
   ],
   "source": [
    "accuracy_score(y_test,y_pred)"
   ]
  },
  {
   "cell_type": "code",
   "execution_count": 217,
   "id": "3e180d5c",
   "metadata": {},
   "outputs": [
    {
     "data": {
      "text/plain": [
       "array([[6907,  500],\n",
       "       [1093, 1220]], dtype=int64)"
      ]
     },
     "execution_count": 217,
     "metadata": {},
     "output_type": "execute_result"
    }
   ],
   "source": [
    "confusion_matrix(y_test,y_pred)"
   ]
  },
  {
   "cell_type": "code",
   "execution_count": 218,
   "id": "ef8222b6",
   "metadata": {},
   "outputs": [
    {
     "name": "stdout",
     "output_type": "stream",
     "text": [
      "              precision    recall  f1-score   support\n",
      "\n",
      "       <=50K       0.86      0.93      0.90      7407\n",
      "        >50K       0.71      0.53      0.61      2313\n",
      "\n",
      "    accuracy                           0.84      9720\n",
      "   macro avg       0.79      0.73      0.75      9720\n",
      "weighted avg       0.83      0.84      0.83      9720\n",
      "\n"
     ]
    }
   ],
   "source": [
    "print(classification_report(y_test,y_pred))"
   ]
  },
  {
   "cell_type": "markdown",
   "id": "2b5f0007",
   "metadata": {},
   "source": [
    "##### Conclusion: KNN would not be the best option for prediction, despite the accuracy being good. This is because recall and f1-score are subpar."
   ]
  },
  {
   "cell_type": "code",
   "execution_count": null,
   "id": "4c48bc58",
   "metadata": {},
   "outputs": [],
   "source": []
  }
 ],
 "metadata": {
  "kernelspec": {
   "display_name": "Python 3 (ipykernel)",
   "language": "python",
   "name": "python3"
  },
  "language_info": {
   "codemirror_mode": {
    "name": "ipython",
    "version": 3
   },
   "file_extension": ".py",
   "mimetype": "text/x-python",
   "name": "python",
   "nbconvert_exporter": "python",
   "pygments_lexer": "ipython3",
   "version": "3.9.7"
  }
 },
 "nbformat": 4,
 "nbformat_minor": 5
}
